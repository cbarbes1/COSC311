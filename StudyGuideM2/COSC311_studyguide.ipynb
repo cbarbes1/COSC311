{
 "cells": [
  {
   "cell_type": "code",
   "execution_count": 6,
   "metadata": {},
   "outputs": [],
   "source": [
    "from sklearn.datasets import load_digits\n",
    "from sklearn.decomposition import PCA\n",
    "from sklearn.model_selection import train_test_split\n",
    "from sklearn.metrics import confusion_matrix\n",
    "import numpy as np # linear algebra\n",
    "import pandas as pd # data processing, CSV file I/O\n",
    "from sklearn.neighbors import KNeighborsClassifier\n",
    "from sklearn.preprocessing import StandardScaler\n",
    "from sklearn.cluster import KMeans\n",
    "from scipy.stats import mode\n",
    "import matplotlib.pyplot as plt\n",
    "from sklearn.metrics import accuracy_score\n",
    "import seaborn as sns; sns.set() \n",
    "\n",
    "from sklearn.linear_model import LinearRegression\n",
    "from sklearn.metrics import mean_absolute_error, mean_squared_error\n",
    "from sklearn.metrics import classification_report, confusion_matrix\n",
    "\n",
    "from sklearn.linear_model import LogisticRegression\n",
    "from sklearn.naive_bayes import GaussianNB\n",
    "from sklearn.ensemble import RandomForestClassifier, VotingClassifier\n",
    "\n",
    "def PCA_find(X, num_features):\n",
    "    for i in range(1, num_features+1):\n",
    "        pca = PCA(n_components = i)\n",
    "        X_new = pca.fit_transform(X)\n",
    "        cumulative_variance = sum(pca.explained_variance_ratio_)\n",
    "        if cumulative_variance >= 0.85:\n",
    "            return i"
   ]
  },
  {
   "cell_type": "markdown",
   "metadata": {},
   "source": [
    "# Sklearn KNN"
   ]
  },
  {
   "cell_type": "code",
   "execution_count": 7,
   "metadata": {},
   "outputs": [
    {
     "name": "stdout",
     "output_type": "stream",
     "text": [
      "['label0', 'label1', 'label2', 'label3', 'label4', 'label5', 'label6', 'label7', 'label8', 'label9', 'label10', 'label11', 'label12', 'label13', 'label14', 'label15', 'label16', 'label17', 'label18', 'label19', 'label20', 'label21', 'label22', 'label23', 'label24', 'label25', 'label26', 'label27', 'label28', 'label29', 'label30', 'label31', 'label32', 'label33', 'label34', 'label35', 'label36', 'label37', 'label38', 'label39', 'label40', 'label41', 'label42', 'label43', 'label44', 'label45', 'label46', 'label47', 'label48', 'label49', 'label50', 'label51', 'label52', 'label53', 'label54', 'label55', 'label56', 'label57', 'label58', 'label59', 'label60', 'label61', 'label62', 'label63', 'label64', 'target']\n",
      "     label0    label1    label2    label3    label4    label5    label6  \\\n",
      "0  0.138983  0.240758  0.076423  0.034312  0.071863 -0.211420 -0.125416   \n",
      "1 -0.450061  0.262221 -0.522730 -0.543112  0.587173 -0.169132  0.327129   \n",
      "2  0.424333  0.558596  0.575716  0.405802  0.003155 -0.391648 -0.207838   \n",
      "3  0.652613  0.170223  0.575716  0.716722  1.549086  0.058542  0.806194   \n",
      "4 -0.303309  0.848829 -0.123295 -0.353329 -0.718280 -0.576791 -0.507846   \n",
      "\n",
      "     label7    label8    label9  ...   label56   label57   label58   label59  \\\n",
      "0  0.325305 -1.067336 -0.185668  ...  0.019263  0.091204  0.045450  0.939436   \n",
      "1  0.086970 -0.201686 -0.702031  ...  0.703837  0.325014 -0.355627 -0.110976   \n",
      "2  0.266982 -0.289545  0.093676  ...  0.191795 -0.135132  0.107033  0.503662   \n",
      "3  0.549814 -0.794654  0.516925  ...  0.230473  0.117729 -0.143477  0.563082   \n",
      "4  0.286403  0.516299 -0.524267  ...  2.344789 -0.146732 -0.278023 -0.587011   \n",
      "\n",
      "    label60   label61   label62   label63   label64  target  \n",
      "0  1.177263  1.515095  1.932844  2.170694  1.583733       1  \n",
      "1  1.080664  1.227642  1.517255  1.426631  1.203283       1  \n",
      "2  1.104415  2.095650  2.331397  1.717362  1.462373       1  \n",
      "3  1.087922  1.180203  1.059199  0.932886  0.806389       1  \n",
      "4 -0.356652 -0.294630 -0.465076 -0.258000  0.088939       1  \n",
      "\n",
      "[5 rows x 66 columns]\n"
     ]
    }
   ],
   "source": [
    "import pandas as pd\n",
    "\n",
    "\n",
    "data = pd.read_csv('FoodTypeDataset.csv')\n",
    "\n",
    "names = ['label'+str(i) for i in range(0, len(data.columns)-1)]\n",
    "names.append('target')\n",
    "\n",
    "print(names)\n",
    "\n",
    "data.columns = names\n",
    "\n",
    "print(data.head())"
   ]
  },
  {
   "cell_type": "code",
   "execution_count": 9,
   "metadata": {},
   "outputs": [],
   "source": [
    "from sklearn.decomposition import PCA\n",
    "\n",
    "X = data.iloc[:,:-1]\n",
    "y = data.iloc[:, -1:]\n",
    "num_components = PCA_find(X, len(X))\n",
    "\n",
    "\n"
   ]
  },
  {
   "cell_type": "code",
   "execution_count": null,
   "metadata": {},
   "outputs": [],
   "source": []
  }
 ],
 "metadata": {
  "kernelspec": {
   "display_name": "Python 3",
   "language": "python",
   "name": "python3"
  },
  "language_info": {
   "codemirror_mode": {
    "name": "ipython",
    "version": 3
   },
   "file_extension": ".py",
   "mimetype": "text/x-python",
   "name": "python",
   "nbconvert_exporter": "python",
   "pygments_lexer": "ipython3",
   "version": "3.10.12"
  }
 },
 "nbformat": 4,
 "nbformat_minor": 2
}
