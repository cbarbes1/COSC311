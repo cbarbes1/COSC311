{
 "cells": [
  {
   "cell_type": "markdown",
   "id": "fbab55df",
   "metadata": {},
   "source": [
    "# COSC 311 - Lab 2"
   ]
  },
  {
   "cell_type": "code",
   "execution_count": 26,
   "id": "30368530",
   "metadata": {},
   "outputs": [],
   "source": [
    "import pandas as pd\n",
    "import numpy as np\n",
    "data1 = pd.read_csv('Bejaia_Region.csv')\n",
    "data2 = pd.read_csv('Sidi-Bel_Abbes_Region.csv')"
   ]
  },
  {
   "cell_type": "markdown",
   "id": "0c83798d",
   "metadata": {},
   "source": [
    "# Task 1\n",
    "## Using pandas package to:\n",
    "- use info() function to show the column information of these two datasets separately\n",
    "- use describe() function to show the statistics (count, mean, std, min, ...) of these two\n",
    "datasets separately\n",
    "- show the unique values of the \"Ws\" (wind speed) column of these two datasets separately\n",
    "- count how many samples there are in each of these two datasets separately\n"
   ]
  },
  {
   "cell_type": "markdown",
   "id": "99fd1463",
   "metadata": {},
   "source": [
    "## Data Set 1"
   ]
  },
  {
   "cell_type": "code",
   "execution_count": 27,
   "id": "c4cb851f",
   "metadata": {},
   "outputs": [
    {
     "name": "stdout",
     "output_type": "stream",
     "text": [
      "<class 'pandas.core.frame.DataFrame'>\n",
      "RangeIndex: 122 entries, 0 to 121\n",
      "Data columns (total 14 columns):\n",
      " #   Column       Non-Null Count  Dtype  \n",
      "---  ------       --------------  -----  \n",
      " 0   day          122 non-null    int64  \n",
      " 1   month        122 non-null    int64  \n",
      " 2   year         122 non-null    int64  \n",
      " 3   Temperature  122 non-null    int64  \n",
      " 4    RH          122 non-null    int64  \n",
      " 5    Ws          122 non-null    int64  \n",
      " 6   Rain         122 non-null    float64\n",
      " 7   FFMC         122 non-null    float64\n",
      " 8   DMC          122 non-null    float64\n",
      " 9   DC           122 non-null    float64\n",
      " 10  ISI          122 non-null    float64\n",
      " 11  BUI          122 non-null    float64\n",
      " 12  FWI          122 non-null    float64\n",
      " 13  Classes      122 non-null    object \n",
      "dtypes: float64(7), int64(6), object(1)\n",
      "memory usage: 13.5+ KB\n"
     ]
    }
   ],
   "source": [
    "data1.info()"
   ]
  },
  {
   "cell_type": "code",
   "execution_count": 28,
   "id": "5d3362a2",
   "metadata": {},
   "outputs": [
    {
     "data": {
      "text/html": [
       "<div>\n",
       "<style scoped>\n",
       "    .dataframe tbody tr th:only-of-type {\n",
       "        vertical-align: middle;\n",
       "    }\n",
       "\n",
       "    .dataframe tbody tr th {\n",
       "        vertical-align: top;\n",
       "    }\n",
       "\n",
       "    .dataframe thead th {\n",
       "        text-align: right;\n",
       "    }\n",
       "</style>\n",
       "<table border=\"1\" class=\"dataframe\">\n",
       "  <thead>\n",
       "    <tr style=\"text-align: right;\">\n",
       "      <th></th>\n",
       "      <th>day</th>\n",
       "      <th>month</th>\n",
       "      <th>year</th>\n",
       "      <th>Temperature</th>\n",
       "      <th>RH</th>\n",
       "      <th>Ws</th>\n",
       "      <th>Rain</th>\n",
       "      <th>FFMC</th>\n",
       "      <th>DMC</th>\n",
       "      <th>DC</th>\n",
       "      <th>ISI</th>\n",
       "      <th>BUI</th>\n",
       "      <th>FWI</th>\n",
       "    </tr>\n",
       "  </thead>\n",
       "  <tbody>\n",
       "    <tr>\n",
       "      <th>count</th>\n",
       "      <td>122.000000</td>\n",
       "      <td>122.000000</td>\n",
       "      <td>122.0</td>\n",
       "      <td>122.000000</td>\n",
       "      <td>122.000000</td>\n",
       "      <td>122.000000</td>\n",
       "      <td>122.000000</td>\n",
       "      <td>122.000000</td>\n",
       "      <td>122.000000</td>\n",
       "      <td>122.000000</td>\n",
       "      <td>122.000000</td>\n",
       "      <td>122.000000</td>\n",
       "      <td>122.000000</td>\n",
       "    </tr>\n",
       "    <tr>\n",
       "      <th>mean</th>\n",
       "      <td>15.754098</td>\n",
       "      <td>7.500000</td>\n",
       "      <td>2012.0</td>\n",
       "      <td>31.180328</td>\n",
       "      <td>67.975410</td>\n",
       "      <td>16.000000</td>\n",
       "      <td>0.842623</td>\n",
       "      <td>74.672951</td>\n",
       "      <td>12.314754</td>\n",
       "      <td>53.160656</td>\n",
       "      <td>3.655738</td>\n",
       "      <td>15.426230</td>\n",
       "      <td>5.577869</td>\n",
       "    </tr>\n",
       "    <tr>\n",
       "      <th>std</th>\n",
       "      <td>8.843274</td>\n",
       "      <td>1.115259</td>\n",
       "      <td>0.0</td>\n",
       "      <td>3.320401</td>\n",
       "      <td>11.154411</td>\n",
       "      <td>2.848807</td>\n",
       "      <td>2.409208</td>\n",
       "      <td>15.558713</td>\n",
       "      <td>11.274360</td>\n",
       "      <td>51.778265</td>\n",
       "      <td>3.021768</td>\n",
       "      <td>14.474302</td>\n",
       "      <td>6.343051</td>\n",
       "    </tr>\n",
       "    <tr>\n",
       "      <th>min</th>\n",
       "      <td>1.000000</td>\n",
       "      <td>6.000000</td>\n",
       "      <td>2012.0</td>\n",
       "      <td>22.000000</td>\n",
       "      <td>45.000000</td>\n",
       "      <td>11.000000</td>\n",
       "      <td>0.000000</td>\n",
       "      <td>28.600000</td>\n",
       "      <td>0.700000</td>\n",
       "      <td>6.900000</td>\n",
       "      <td>0.000000</td>\n",
       "      <td>1.100000</td>\n",
       "      <td>0.000000</td>\n",
       "    </tr>\n",
       "    <tr>\n",
       "      <th>25%</th>\n",
       "      <td>8.000000</td>\n",
       "      <td>7.000000</td>\n",
       "      <td>2012.0</td>\n",
       "      <td>29.000000</td>\n",
       "      <td>60.000000</td>\n",
       "      <td>14.000000</td>\n",
       "      <td>0.000000</td>\n",
       "      <td>65.925000</td>\n",
       "      <td>3.725000</td>\n",
       "      <td>10.050000</td>\n",
       "      <td>1.125000</td>\n",
       "      <td>5.100000</td>\n",
       "      <td>0.500000</td>\n",
       "    </tr>\n",
       "    <tr>\n",
       "      <th>50%</th>\n",
       "      <td>16.000000</td>\n",
       "      <td>7.500000</td>\n",
       "      <td>2012.0</td>\n",
       "      <td>31.000000</td>\n",
       "      <td>68.000000</td>\n",
       "      <td>16.000000</td>\n",
       "      <td>0.000000</td>\n",
       "      <td>80.900000</td>\n",
       "      <td>9.450000</td>\n",
       "      <td>35.550000</td>\n",
       "      <td>2.650000</td>\n",
       "      <td>11.200000</td>\n",
       "      <td>3.000000</td>\n",
       "    </tr>\n",
       "    <tr>\n",
       "      <th>75%</th>\n",
       "      <td>23.000000</td>\n",
       "      <td>8.000000</td>\n",
       "      <td>2012.0</td>\n",
       "      <td>34.000000</td>\n",
       "      <td>77.750000</td>\n",
       "      <td>18.000000</td>\n",
       "      <td>0.500000</td>\n",
       "      <td>86.775000</td>\n",
       "      <td>16.300000</td>\n",
       "      <td>79.025000</td>\n",
       "      <td>5.600000</td>\n",
       "      <td>21.675000</td>\n",
       "      <td>8.700000</td>\n",
       "    </tr>\n",
       "    <tr>\n",
       "      <th>max</th>\n",
       "      <td>31.000000</td>\n",
       "      <td>9.000000</td>\n",
       "      <td>2012.0</td>\n",
       "      <td>37.000000</td>\n",
       "      <td>89.000000</td>\n",
       "      <td>26.000000</td>\n",
       "      <td>16.800000</td>\n",
       "      <td>90.300000</td>\n",
       "      <td>54.200000</td>\n",
       "      <td>220.400000</td>\n",
       "      <td>12.500000</td>\n",
       "      <td>67.400000</td>\n",
       "      <td>30.200000</td>\n",
       "    </tr>\n",
       "  </tbody>\n",
       "</table>\n",
       "</div>"
      ],
      "text/plain": [
       "              day       month    year  Temperature          RH          Ws  \\\n",
       "count  122.000000  122.000000   122.0   122.000000  122.000000  122.000000   \n",
       "mean    15.754098    7.500000  2012.0    31.180328   67.975410   16.000000   \n",
       "std      8.843274    1.115259     0.0     3.320401   11.154411    2.848807   \n",
       "min      1.000000    6.000000  2012.0    22.000000   45.000000   11.000000   \n",
       "25%      8.000000    7.000000  2012.0    29.000000   60.000000   14.000000   \n",
       "50%     16.000000    7.500000  2012.0    31.000000   68.000000   16.000000   \n",
       "75%     23.000000    8.000000  2012.0    34.000000   77.750000   18.000000   \n",
       "max     31.000000    9.000000  2012.0    37.000000   89.000000   26.000000   \n",
       "\n",
       "            Rain         FFMC         DMC          DC         ISI         BUI  \\\n",
       "count  122.000000  122.000000  122.000000  122.000000  122.000000  122.000000   \n",
       "mean     0.842623   74.672951   12.314754   53.160656    3.655738   15.426230   \n",
       "std      2.409208   15.558713   11.274360   51.778265    3.021768   14.474302   \n",
       "min      0.000000   28.600000    0.700000    6.900000    0.000000    1.100000   \n",
       "25%      0.000000   65.925000    3.725000   10.050000    1.125000    5.100000   \n",
       "50%      0.000000   80.900000    9.450000   35.550000    2.650000   11.200000   \n",
       "75%      0.500000   86.775000   16.300000   79.025000    5.600000   21.675000   \n",
       "max     16.800000   90.300000   54.200000  220.400000   12.500000   67.400000   \n",
       "\n",
       "              FWI  \n",
       "count  122.000000  \n",
       "mean     5.577869  \n",
       "std      6.343051  \n",
       "min      0.000000  \n",
       "25%      0.500000  \n",
       "50%      3.000000  \n",
       "75%      8.700000  \n",
       "max     30.200000  "
      ]
     },
     "execution_count": 28,
     "metadata": {},
     "output_type": "execute_result"
    }
   ],
   "source": [
    "data1.describe()"
   ]
  },
  {
   "cell_type": "code",
   "execution_count": 29,
   "id": "863beae8",
   "metadata": {},
   "outputs": [
    {
     "data": {
      "text/plain": [
       "array([18, 13, 22, 16, 14, 15, 12, 19, 21, 20, 17, 26, 11], dtype=int64)"
      ]
     },
     "execution_count": 29,
     "metadata": {},
     "output_type": "execute_result"
    }
   ],
   "source": [
    "data1[' Ws'].unique()"
   ]
  },
  {
   "cell_type": "code",
   "execution_count": 30,
   "id": "13f039f0",
   "metadata": {},
   "outputs": [
    {
     "name": "stdout",
     "output_type": "stream",
     "text": [
      "day            122\n",
      "month          122\n",
      "year           122\n",
      "Temperature    122\n",
      " RH            122\n",
      " Ws            122\n",
      "Rain           122\n",
      "FFMC           122\n",
      "DMC            122\n",
      "DC             122\n",
      "ISI            122\n",
      "BUI            122\n",
      "FWI            122\n",
      "Classes        122\n",
      "dtype: int64\n"
     ]
    }
   ],
   "source": [
    "print(data1.count())"
   ]
  },
  {
   "cell_type": "markdown",
   "id": "3c3d905e",
   "metadata": {},
   "source": [
    "## Data Set 2"
   ]
  },
  {
   "cell_type": "code",
   "execution_count": 31,
   "id": "92b6754f",
   "metadata": {},
   "outputs": [
    {
     "name": "stdout",
     "output_type": "stream",
     "text": [
      "<class 'pandas.core.frame.DataFrame'>\n",
      "RangeIndex: 122 entries, 0 to 121\n",
      "Data columns (total 14 columns):\n",
      " #   Column       Non-Null Count  Dtype  \n",
      "---  ------       --------------  -----  \n",
      " 0   day          122 non-null    int64  \n",
      " 1   month        122 non-null    int64  \n",
      " 2   year         122 non-null    int64  \n",
      " 3   Temperature  122 non-null    int64  \n",
      " 4    RH          122 non-null    int64  \n",
      " 5    Ws          122 non-null    int64  \n",
      " 6   Rain         122 non-null    float64\n",
      " 7   FFMC         122 non-null    float64\n",
      " 8   DMC          122 non-null    float64\n",
      " 9   DC           122 non-null    float64\n",
      " 10  ISI          122 non-null    float64\n",
      " 11  BUI          122 non-null    float64\n",
      " 12  FWI          122 non-null    float64\n",
      " 13  Classes      122 non-null    object \n",
      "dtypes: float64(7), int64(6), object(1)\n",
      "memory usage: 13.5+ KB\n"
     ]
    }
   ],
   "source": [
    "data2.info()"
   ]
  },
  {
   "cell_type": "code",
   "execution_count": 32,
   "id": "ba7ea03f",
   "metadata": {},
   "outputs": [
    {
     "data": {
      "text/html": [
       "<div>\n",
       "<style scoped>\n",
       "    .dataframe tbody tr th:only-of-type {\n",
       "        vertical-align: middle;\n",
       "    }\n",
       "\n",
       "    .dataframe tbody tr th {\n",
       "        vertical-align: top;\n",
       "    }\n",
       "\n",
       "    .dataframe thead th {\n",
       "        text-align: right;\n",
       "    }\n",
       "</style>\n",
       "<table border=\"1\" class=\"dataframe\">\n",
       "  <thead>\n",
       "    <tr style=\"text-align: right;\">\n",
       "      <th></th>\n",
       "      <th>day</th>\n",
       "      <th>month</th>\n",
       "      <th>year</th>\n",
       "      <th>Temperature</th>\n",
       "      <th>RH</th>\n",
       "      <th>Ws</th>\n",
       "      <th>Rain</th>\n",
       "      <th>FFMC</th>\n",
       "      <th>DMC</th>\n",
       "      <th>DC</th>\n",
       "      <th>ISI</th>\n",
       "      <th>BUI</th>\n",
       "      <th>FWI</th>\n",
       "    </tr>\n",
       "  </thead>\n",
       "  <tbody>\n",
       "    <tr>\n",
       "      <th>count</th>\n",
       "      <td>122.000000</td>\n",
       "      <td>122.000000</td>\n",
       "      <td>122.0</td>\n",
       "      <td>122.000000</td>\n",
       "      <td>122.000000</td>\n",
       "      <td>122.000000</td>\n",
       "      <td>122.000000</td>\n",
       "      <td>122.000000</td>\n",
       "      <td>122.000000</td>\n",
       "      <td>122.000000</td>\n",
       "      <td>122.000000</td>\n",
       "      <td>122.000000</td>\n",
       "      <td>122.000000</td>\n",
       "    </tr>\n",
       "    <tr>\n",
       "      <th>mean</th>\n",
       "      <td>15.754098</td>\n",
       "      <td>7.500000</td>\n",
       "      <td>2012.0</td>\n",
       "      <td>33.163934</td>\n",
       "      <td>55.901639</td>\n",
       "      <td>15.008197</td>\n",
       "      <td>0.678689</td>\n",
       "      <td>81.102459</td>\n",
       "      <td>17.031967</td>\n",
       "      <td>45.415574</td>\n",
       "      <td>5.892623</td>\n",
       "      <td>17.903279</td>\n",
       "      <td>8.509016</td>\n",
       "    </tr>\n",
       "    <tr>\n",
       "      <th>std</th>\n",
       "      <td>8.843274</td>\n",
       "      <td>1.115259</td>\n",
       "      <td>0.0</td>\n",
       "      <td>3.675608</td>\n",
       "      <td>15.716186</td>\n",
       "      <td>2.692186</td>\n",
       "      <td>1.486759</td>\n",
       "      <td>12.244064</td>\n",
       "      <td>12.995068</td>\n",
       "      <td>42.927562</td>\n",
       "      <td>4.832913</td>\n",
       "      <td>13.878868</td>\n",
       "      <td>8.135739</td>\n",
       "    </tr>\n",
       "    <tr>\n",
       "      <th>min</th>\n",
       "      <td>1.000000</td>\n",
       "      <td>6.000000</td>\n",
       "      <td>2012.0</td>\n",
       "      <td>24.000000</td>\n",
       "      <td>21.000000</td>\n",
       "      <td>6.000000</td>\n",
       "      <td>0.000000</td>\n",
       "      <td>37.900000</td>\n",
       "      <td>0.900000</td>\n",
       "      <td>7.300000</td>\n",
       "      <td>0.100000</td>\n",
       "      <td>1.400000</td>\n",
       "      <td>0.000000</td>\n",
       "    </tr>\n",
       "    <tr>\n",
       "      <th>25%</th>\n",
       "      <td>8.000000</td>\n",
       "      <td>7.000000</td>\n",
       "      <td>2012.0</td>\n",
       "      <td>30.000000</td>\n",
       "      <td>43.250000</td>\n",
       "      <td>14.000000</td>\n",
       "      <td>0.000000</td>\n",
       "      <td>77.650000</td>\n",
       "      <td>7.325000</td>\n",
       "      <td>14.700000</td>\n",
       "      <td>1.825000</td>\n",
       "      <td>7.400000</td>\n",
       "      <td>0.925000</td>\n",
       "    </tr>\n",
       "    <tr>\n",
       "      <th>50%</th>\n",
       "      <td>16.000000</td>\n",
       "      <td>7.500000</td>\n",
       "      <td>2012.0</td>\n",
       "      <td>34.000000</td>\n",
       "      <td>56.000000</td>\n",
       "      <td>15.000000</td>\n",
       "      <td>0.000000</td>\n",
       "      <td>84.850000</td>\n",
       "      <td>13.150000</td>\n",
       "      <td>31.500000</td>\n",
       "      <td>4.600000</td>\n",
       "      <td>13.900000</td>\n",
       "      <td>6.050000</td>\n",
       "    </tr>\n",
       "    <tr>\n",
       "      <th>75%</th>\n",
       "      <td>23.000000</td>\n",
       "      <td>8.000000</td>\n",
       "      <td>2012.0</td>\n",
       "      <td>36.000000</td>\n",
       "      <td>66.750000</td>\n",
       "      <td>16.750000</td>\n",
       "      <td>0.475000</td>\n",
       "      <td>89.275000</td>\n",
       "      <td>22.900000</td>\n",
       "      <td>56.975000</td>\n",
       "      <td>8.625000</td>\n",
       "      <td>23.875000</td>\n",
       "      <td>13.650000</td>\n",
       "    </tr>\n",
       "    <tr>\n",
       "      <th>max</th>\n",
       "      <td>31.000000</td>\n",
       "      <td>9.000000</td>\n",
       "      <td>2012.0</td>\n",
       "      <td>42.000000</td>\n",
       "      <td>90.000000</td>\n",
       "      <td>29.000000</td>\n",
       "      <td>8.700000</td>\n",
       "      <td>96.000000</td>\n",
       "      <td>65.900000</td>\n",
       "      <td>177.300000</td>\n",
       "      <td>19.000000</td>\n",
       "      <td>68.000000</td>\n",
       "      <td>31.100000</td>\n",
       "    </tr>\n",
       "  </tbody>\n",
       "</table>\n",
       "</div>"
      ],
      "text/plain": [
       "              day       month    year  Temperature          RH          Ws  \\\n",
       "count  122.000000  122.000000   122.0   122.000000  122.000000  122.000000   \n",
       "mean    15.754098    7.500000  2012.0    33.163934   55.901639   15.008197   \n",
       "std      8.843274    1.115259     0.0     3.675608   15.716186    2.692186   \n",
       "min      1.000000    6.000000  2012.0    24.000000   21.000000    6.000000   \n",
       "25%      8.000000    7.000000  2012.0    30.000000   43.250000   14.000000   \n",
       "50%     16.000000    7.500000  2012.0    34.000000   56.000000   15.000000   \n",
       "75%     23.000000    8.000000  2012.0    36.000000   66.750000   16.750000   \n",
       "max     31.000000    9.000000  2012.0    42.000000   90.000000   29.000000   \n",
       "\n",
       "            Rain         FFMC         DMC          DC         ISI         BUI  \\\n",
       "count  122.000000  122.000000  122.000000  122.000000  122.000000  122.000000   \n",
       "mean     0.678689   81.102459   17.031967   45.415574    5.892623   17.903279   \n",
       "std      1.486759   12.244064   12.995068   42.927562    4.832913   13.878868   \n",
       "min      0.000000   37.900000    0.900000    7.300000    0.100000    1.400000   \n",
       "25%      0.000000   77.650000    7.325000   14.700000    1.825000    7.400000   \n",
       "50%      0.000000   84.850000   13.150000   31.500000    4.600000   13.900000   \n",
       "75%      0.475000   89.275000   22.900000   56.975000    8.625000   23.875000   \n",
       "max      8.700000   96.000000   65.900000  177.300000   19.000000   68.000000   \n",
       "\n",
       "              FWI  \n",
       "count  122.000000  \n",
       "mean     8.509016  \n",
       "std      8.135739  \n",
       "min      0.000000  \n",
       "25%      0.925000  \n",
       "50%      6.050000  \n",
       "75%     13.650000  \n",
       "max     31.100000  "
      ]
     },
     "execution_count": 32,
     "metadata": {},
     "output_type": "execute_result"
    }
   ],
   "source": [
    "data2.describe()"
   ]
  },
  {
   "cell_type": "code",
   "execution_count": 33,
   "id": "c03cff00",
   "metadata": {},
   "outputs": [
    {
     "data": {
      "text/plain": [
       "array([12, 13, 14, 11, 17, 18, 15, 21, 16, 10,  9, 19,  8,  6, 29],\n",
       "      dtype=int64)"
      ]
     },
     "execution_count": 33,
     "metadata": {},
     "output_type": "execute_result"
    }
   ],
   "source": [
    "data2[' Ws'].unique()"
   ]
  },
  {
   "cell_type": "code",
   "execution_count": 34,
   "id": "2549b6a8",
   "metadata": {},
   "outputs": [
    {
     "name": "stdout",
     "output_type": "stream",
     "text": [
      "day            122\n",
      "month          122\n",
      "year           122\n",
      "Temperature    122\n",
      " RH            122\n",
      " Ws            122\n",
      "Rain           122\n",
      "FFMC           122\n",
      "DMC            122\n",
      "DC             122\n",
      "ISI            122\n",
      "BUI            122\n",
      "FWI            122\n",
      "Classes        122\n",
      "dtype: int64\n"
     ]
    }
   ],
   "source": [
    "print(data2.count())"
   ]
  },
  {
   "cell_type": "markdown",
   "id": "1b0061c0",
   "metadata": {},
   "source": [
    "# Task 2: \n",
    "## draw a line figure to show the temperature change with time for the \"Bejaia Region Dataset\"\n"
   ]
  },
  {
   "cell_type": "code",
   "execution_count": 35,
   "id": "1d38785b",
   "metadata": {},
   "outputs": [
    {
     "data": {
      "image/png": "[encoded data removed]",
      "text/plain": [
       "<Figure size 640x480 with 1 Axes>"
      ]
     },
     "metadata": {},
     "output_type": "display_data"
    }
   ],
   "source": [
    "from matplotlib import pyplot as plt\n",
    "\n",
    "day_list = [i for i in enumerate(data1['Temperature'])]\n",
    "\n",
    "# to show multiple series on the same chart\n",
    "plt.plot(day_list, data1['Temperature'],'g',  label='Temperature')    # green solid line\n",
    "\n",
    "plt.xlabel(\"Days\")\n",
    "\n",
    "plt.title(\"Temperature Increase per day\")\n",
    "plt.show()\n",
    "\n",
    "#data1['Temperature'].plot.line()"
   ]
  },
  {
   "cell_type": "markdown",
   "id": "dc9ae391",
   "metadata": {},
   "source": [
    "# Task 3: \n",
    "draw a scatterplot figure to show the relationship between the temperature and the Fire\n",
    "Weather Index (FWI) for the \"Sidi-Bel Abbes Region Dataset\""
   ]
  },
  {
   "cell_type": "code",
   "execution_count": 36,
   "id": "81ac5ea7",
   "metadata": {},
   "outputs": [
    {
     "data": {
      "image/png": "[encoded data removed]",
      "text/plain": [
       "<Figure size 1000x600 with 1 Axes>"
      ]
     },
     "metadata": {},
     "output_type": "display_data"
    }
   ],
   "source": [
    "plt.figure(figsize=(10, 6))\n",
    "plt.scatter(data2['Temperature'], data2['FWI'])\n",
    "plt.title(\"Fire Weather Index vs. Temperature\")\n",
    "plt.xlabel(\"Temperature\")\n",
    "plt.ylabel(\"Fire Weather Index (FWI)\")\n",
    "plt.tight_layout()\n",
    "plt.show()"
   ]
  },
  {
   "cell_type": "markdown",
   "id": "d95157b2",
   "metadata": {},
   "source": [
    "# Task 4: \n",
    "draw a histogram to show the average Relative Humidity (RH) for each month for the\n",
    "\"Bejaia Region Dataset\"\n"
   ]
  },
  {
   "cell_type": "markdown",
   "id": "e1fec475",
   "metadata": {},
   "source": [
    "# Task 5:\n",
    "draw a bar figure to show the maximum Rain amount in a day for each month for the\n",
    "\"Bejaia Region Dataset\"\n"
   ]
  },
  {
   "cell_type": "markdown",
   "id": "4b0fe48f",
   "metadata": {},
   "source": [
    "# Task 6:\n",
    "draw a histogram to show the Wind speed (Ws) distribution in 5 bins for the \"Sidi-Bel\n",
    "Abbes Region Dataset\" in June, 2012\n"
   ]
  },
  {
   "cell_type": "markdown",
   "id": "538aa5d4",
   "metadata": {},
   "source": [
    "# Task 7:\n",
    "draw a line figure to show the correlation between temperature (Temp) and Relative\n",
    "Humidity (RH) for the \"Sidi-Bel Abbes Region Dataset\" in July, 2012\n"
   ]
  },
  {
   "cell_type": "markdown",
   "id": "26cf617a",
   "metadata": {},
   "source": [
    "# Task 8: \n",
    "draw a bar figure to show the distribution of Relative Humidity (RH) for the \"Bejaia\n",
    "Region Dataset\". The x-axis is the decile of Relative Humidity (20s, 30s, ..., 90s), and y-axis is the\n",
    "number of days\n"
   ]
  },
  {
   "cell_type": "markdown",
   "id": "9280c0dd",
   "metadata": {},
   "source": [
    "# Task 9: \n",
    "draw a figure (any type you want) to show the average temperature for each month when\n",
    "there is \"no fire\" and there is \"fire\" for the \"Bejaia Region Dataset\""
   ]
  },
  {
   "cell_type": "code",
   "execution_count": null,
   "id": "81276543",
   "metadata": {},
   "outputs": [],
   "source": []
  }
 ],
 "metadata": {
  "kernelspec": {
   "display_name": "Python 3 (ipykernel)",
   "language": "python",
   "name": "python3"
  },
  "language_info": {
   "codemirror_mode": {
    "name": "ipython",
    "version": 3
   },
   "file_extension": ".py",
   "mimetype": "text/x-python",
   "name": "python",
   "nbconvert_exporter": "python",
   "pygments_lexer": "ipython3",
   "version": "3.9.12"
  }
 },
 "nbformat": 4,
 "nbformat_minor": 5
}
