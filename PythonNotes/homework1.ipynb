{
 "cells": [
  {
   "cell_type": "markdown",
   "metadata": {},
   "source": [
    "# Homework 1"
   ]
  },
  {
   "cell_type": "code",
   "execution_count": 1,
   "metadata": {},
   "outputs": [
    {
     "name": "stdout",
     "output_type": "stream",
     "text": [
      "[1, 3, 6, 10, 15, 21, 28, 36, 45, 55, 66, 78, 91, 105, 120, 136, 153, 171, 190, 210]\n"
     ]
    }
   ],
   "source": [
    "# list comprehension method to find the triangle sequence\n",
    "a = [int(i*(i+1)/2) for i in range(1, 21)]\n",
    "print(a)"
   ]
  },
  {
   "cell_type": "code",
   "execution_count": 2,
   "metadata": {},
   "outputs": [
    {
     "name": "stdout",
     "output_type": "stream",
     "text": [
      "Even Sum:  110 \n",
      " Odd Sum:  100\n"
     ]
    }
   ],
   "source": [
    "evensum = 0\n",
    "oddsum = 0\n",
    "for i in range(1, 21): \n",
    "    if i%2 == 0:\n",
    "        evensum+=i\n",
    "    else:\n",
    "        oddsum+=i\n",
    "print('Even Sum: ', evensum, '\\n', 'Odd Sum: ', oddsum)"
   ]
  },
  {
   "cell_type": "code",
   "execution_count": 3,
   "metadata": {},
   "outputs": [
    {
     "name": "stdout",
     "output_type": "stream",
     "text": [
      "You should go out and play tennis\n"
     ]
    }
   ],
   "source": [
    "\n",
    "def playTennis(outlook, humidity, wind):\n",
    "    if outlook == 'Sunny':\n",
    "        if humidity == 'High':\n",
    "            return False\n",
    "        elif humidity == 'Normal':\n",
    "            return True\n",
    "    elif outlook == 'Overcast':\n",
    "        return True\n",
    "    elif outlook == 'Rain':\n",
    "        if wind == 'strong':\n",
    "            return False\n",
    "        elif wind == 'Weak':\n",
    "            return True\n",
    "        \n",
    "Outlook = input('Please enter the outlook for the day: ')\n",
    "Humidity = input('Please enter the humidity for the day: ')\n",
    "Wind = input('Please enter the wind for the day: ')\n",
    "\n",
    "play = playTennis(Outlook, Humidity, Wind)\n",
    "if play == True:\n",
    "    print('You should go out and play tennis')\n",
    "elif play == False:\n",
    "    print(\"Today is not a tennis day\")"
   ]
  },
  {
   "cell_type": "code",
   "execution_count": 10,
   "metadata": {},
   "outputs": [
    {
     "name": "stdout",
     "output_type": "stream",
     "text": [
      "         **********\n",
      "        ************\n",
      "       **************\n",
      "      ****************\n",
      "     ******************\n",
      "    ********************\n",
      "   **********************\n",
      "  ************************\n",
      " **************************\n",
      "****************************\n",
      "****************************\n",
      "****************************\n",
      "****************************\n",
      "****************************\n",
      "****************************\n",
      "****************************\n",
      "****************************\n",
      "****************************\n",
      "****************************\n",
      " **************************\n",
      "  ************************\n",
      "   **********************\n",
      "    ********************\n",
      "     ******************\n",
      "      ****************\n",
      "       **************\n",
      "        ************\n",
      "         **********\n"
     ]
    }
   ],
   "source": [
    "\n",
    "def printOctagon(Length):\n",
    "    stars = '*'*Length\n",
    "    sum = 0\n",
    "    middle = int(Length/2)\n",
    "    count = Length-2\n",
    "    for i in range(Length*3-1):\n",
    "        if i < Length-1:\n",
    "            print((count)*' ', stars + sum*'*')\n",
    "            count-=1\n",
    "            sum+=2\n",
    "        elif i > Length-1 and i <= Length*2-1:\n",
    "            count =0\n",
    "            print(stars + '*'*(Length*2-2))\n",
    "        elif i > Length*2-2:\n",
    "            if sum == 2:\n",
    "                print(count*' ',stars )\n",
    "            else: \n",
    "                sum-=2\n",
    "                print(count*' ',stars + sum*'*' )\n",
    "            count+=1\n",
    "            \n",
    "length = int(input('Enter the length of the he'))\n",
    "while length < 2:\n",
    "    length = input('Enter the length of the he')\n",
    "printOctagon(length)\n"
   ]
  },
  {
   "cell_type": "code",
   "execution_count": null,
   "metadata": {},
   "outputs": [],
   "source": []
  }
 ],
 "metadata": {
  "kernelspec": {
   "display_name": "Python 3",
   "language": "python",
   "name": "python3"
  },
  "language_info": {
   "codemirror_mode": {
    "name": "ipython",
    "version": 3
   },
   "file_extension": ".py",
   "mimetype": "text/x-python",
   "name": "python",
   "nbconvert_exporter": "python",
   "pygments_lexer": "ipython3",
   "version": "3.10.11"
  }
 },
 "nbformat": 4,
 "nbformat_minor": 2
}
