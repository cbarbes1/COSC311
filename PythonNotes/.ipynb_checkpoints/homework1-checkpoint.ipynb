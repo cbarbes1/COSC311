{
 "cells": [
  {
   "cell_type": "markdown",
   "metadata": {},
   "source": [
    "# Homework 1"
   ]
  },
  {
   "cell_type": "code",
   "execution_count": null,
   "metadata": {},
   "outputs": [],
   "source": [
    "# list comprehension method to find the triangle sequence\n",
    "a = [int(i*(i+1)/2) for i in range(1, 21)]\n",
    "print(a)"
   ]
  },
  {
   "cell_type": "code",
   "execution_count": null,
   "metadata": {},
   "outputs": [],
   "source": [
    "# sum of even numbers \n",
    "print('Even Sum: ', sum(i for i in a if i%2 == 0), '\\n', 'Odd Sum: ', sum(i for i in a if i%2 != 0))"
   ]
  },
  {
   "cell_type": "code",
   "execution_count": null,
   "metadata": {},
   "outputs": [],
   "source": [
    "\n",
    "# function to figure out if you want to play tennis\n",
    "def playTennis(outlook, humidity, wind):\n",
    "    if outlook.lower() == 'sunny':\n",
    "        if humidity.lower() == 'high':\n",
    "            return False\n",
    "        elif humidity.lower() == 'normal':\n",
    "            return True\n",
    "    elif outlook.lower() == 'overcast':\n",
    "        return True\n",
    "    elif outlook.lower() == 'rain':\n",
    "        if wind.lower() == 'strong':\n",
    "            return False\n",
    "        elif wind.lower() == 'weak':\n",
    "            return True\n",
    "        \n",
    "Outlook = input('Please enter the outlook for the day: ')\n",
    "Humidity = input('Please enter the humidity for the day: ')\n",
    "Wind = input('Please enter the wind for the day: ')\n",
    "\n",
    "play = playTennis(Outlook, Humidity, Wind)\n",
    "if play == True:\n",
    "    print('You should go out and play tennis')\n",
    "elif play == False:\n",
    "    print(\"Today is not a tennis day\")"
   ]
  },
  {
   "cell_type": "markdown",
   "metadata": {},
   "source": [
    "Input: Outlook = Sunny, Humidity=High, Wind=Weak Output: Today is not a tennis day\n",
    "Input: Outlook = Overcast, Humidity=Normal, Wind=Strong output: You should go out and play tennis\n",
    "Input: Outlook = Rain, Humidity=High, Wind=Strong output: Today is not a tennis day"
   ]
  },
  {
   "cell_type": "code",
   "execution_count": 3,
   "metadata": {},
   "outputs": [
    {
     "name": "stdout",
     "output_type": "stream",
     "text": [
      "Enter the length of the octagon2\n",
      " **\n",
      "****\n",
      "****\n",
      " **\n",
      "Enter the length of the octagon1\n",
      "Enter the length of the octagon1\n",
      "Enter the length of the octagon1\n",
      "Enter the length of the octagon0\n",
      "Enter the length of the octagon3\n",
      "  ***\n",
      " *****\n",
      "*******\n",
      "*******\n",
      "*******\n",
      " *****\n",
      "  ***\n",
      "Enter the length of the octagon5\n",
      "    *****\n",
      "   *******\n",
      "  *********\n",
      " ***********\n",
      "*************\n",
      "*************\n",
      "*************\n",
      "*************\n",
      "*************\n",
      " ***********\n",
      "  *********\n",
      "   *******\n",
      "    *****\n"
     ]
    }
   ],
   "source": [
    "\n",
    "def printOctagon(Length):\n",
    "    stars = '*'*Length\n",
    "    sum = 0\n",
    "    middle = int(Length/2)\n",
    "    count = Length-2\n",
    "    for i in range(Length*3-1):\n",
    "        if i < Length-1:\n",
    "            print((count)*' ', stars + sum*'*')\n",
    "            count-=1\n",
    "            sum+=2\n",
    "        elif i > Length-1 and i <= Length*2-1:\n",
    "            count =0\n",
    "            print(stars + '*'*(Length*2-2))\n",
    "        elif i > Length*2-2:\n",
    "            if sum == 2:\n",
    "                print(count*' ',stars )\n",
    "            else: \n",
    "                sum-=2\n",
    "                print(count*' ',stars + sum*'*' )\n",
    "            count+=1\n",
    "            \n",
    "length = int(input('Enter the length of the octagon'))\n",
    "while length < 2:\n",
    "    length = int(input('Enter the length of the octagon'))\n",
    "printOctagon(length)\n",
    "length = int(input('Enter the length of the octagon'))\n",
    "while length < 2:\n",
    "    length = int(input('Enter the length of the octagon'))\n",
    "printOctagon(length)\n",
    "length = int(input('Enter the length of the octagon'))\n",
    "while length < 2:\n",
    "    length = int(input('Enter the length of the octagon'))\n",
    "printOctagon(length)\n"
   ]
  },
  {
   "cell_type": "code",
   "execution_count": 1,
   "metadata": {},
   "outputs": [
    {
     "name": "stdout",
     "output_type": "stream",
     "text": [
      "Enter the number of times you would like to roll the dice: 7\n",
      "{2: 0.14285714285714285, 3: 0.0, 4: 0.0, 5: 0.42857142857142855, 6: 0.0, 7: 0.14285714285714285, 8: 0.2857142857142857, 9: 0.0, 10: 0.0, 11: 0.0, 12: 0.0}\n"
     ]
    }
   ],
   "source": [
    "from random import randint\n",
    "## list and dictionary comprehension\n",
    "dicelist = [randint(1, 6)+randint(1, 6) for i in range(int(input('Enter the number of times you would like to roll the dice: ')))]\n",
    "#print({key: value / n for key, value in {item: dicelist.count(item) for item in range(2, 13) }.items()})\n",
    "print({item: dicelist.count(item)/sum([dicelist.count(item) for item in range(2, 13)]) for item in range(2,13)})"
   ]
  },
  {
   "cell_type": "markdown",
   "metadata": {},
   "source": [
    "`n = 100 {2: 0.03, 3: 0.03, 4: 0.07, 5: 0.11, 6: 0.1, 7: 0.2, 8: 0.22, 9: 0.09, 10: 0.09, 11: 0.02, 12: 0.04}`\n",
    "\n",
    "`n = 100,000 {2: 0.02807, 3: 0.05427, 4: 0.08361, 5: 0.11089, 6: 0.13857, 7: 0.16715, 8: 0.13777, 9: 0.11244, 10: 0.084, 11: 0.05557, 12: 0.02766}`\n",
    "\n"
   ]
  }
 ],
 "metadata": {
  "kernelspec": {
   "display_name": "Python 3 (ipykernel)",
   "language": "python",
   "name": "python3"
  },
  "language_info": {
   "codemirror_mode": {
    "name": "ipython",
    "version": 3
   },
   "file_extension": ".py",
   "mimetype": "text/x-python",
   "name": "python",
   "nbconvert_exporter": "python",
   "pygments_lexer": "ipython3",
   "version": "3.9.12"
  }
 },
 "nbformat": 4,
 "nbformat_minor": 2
}
