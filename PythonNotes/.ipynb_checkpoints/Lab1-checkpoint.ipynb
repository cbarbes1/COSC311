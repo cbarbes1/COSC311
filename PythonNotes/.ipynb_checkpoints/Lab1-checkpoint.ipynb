{
 "cells": [
  {
   "cell_type": "markdown",
   "id": "6910193d",
   "metadata": {},
   "source": [
    "# Lab 1 Report\n",
    "\n",
    "Name: Cole Barbes"
   ]
  },
  {
   "cell_type": "code",
   "execution_count": 1,
   "id": "8871c87e",
   "metadata": {},
   "outputs": [
    {
     "name": "stdout",
     "output_type": "stream",
     "text": [
      "937\n"
     ]
    }
   ],
   "source": [
    "# Task 1: How many different words appeared in this paper\n",
    "word_counts = {}\n",
    "with open('NaturePaper.txt', 'r', errors='ignore') as file:\n",
    "    for line in file:\n",
    "        tokens = line.upper().replace(',','').replace(';','').replace('(','').replace(')','')\\\n",
    "            .replace('!','').replace('?','').replace('.','').split()\n",
    "        for word in tokens:\n",
    "            try:\n",
    "                word_counts[word] += 1\n",
    "            except:\n",
    "                word_counts[word] = 1\n",
    "print(len(word_counts))"
   ]
  },
  {
   "cell_type": "code",
   "execution_count": 2,
   "id": "28ca57b2",
   "metadata": {},
   "outputs": [
    {
     "name": "stdout",
     "output_type": "stream",
     "text": [
      "{'AI': 22, 'ARE': 23, 'FOR': 23, 'THAT': 36, 'AND': 43, 'A': 48, 'IN': 48, 'TO': 73, 'OF': 74, 'THE': 90}\n"
     ]
    }
   ],
   "source": [
    "# Task 2: What are the 10 words that appear most frequently (from high to low)?\n",
    "import operator\n",
    "\n",
    "print({word: word_counts[word] for word in list(dict(sorted(word_counts.items(), key=operator.itemgetter(1))).keys())[-10:]})\n"
   ]
  },
  {
   "cell_type": "code",
   "execution_count": 3,
   "id": "465f3c4d",
   "metadata": {},
   "outputs": [
    {
     "name": "stdout",
     "output_type": "stream",
     "text": [
      "22\n",
      "3\n",
      "12\n",
      "7\n",
      "8\n"
     ]
    }
   ],
   "source": [
    "# Task 3: What are the appearance frequencies for the following words?\n",
    "# AI\n",
    "# robotics\n",
    "# climate\n",
    "# materials\n",
    "# algorithms\n",
    "print(word_counts['AI'])\n",
    "print(word_counts['robotics'.upper()])\n",
    "print(word_counts['climate'.upper()])\n",
    "print(word_counts['materials'.upper()])\n",
    "print(word_counts['algorithms'.upper()])"
   ]
  },
  {
   "cell_type": "code",
   "execution_count": 5,
   "id": "0707beee",
   "metadata": {},
   "outputs": [
    {
     "name": "stdout",
     "output_type": "stream",
     "text": [
      "Words that occur 2 times: \n",
      " {'HELPING': 2, 'RESEARCH': 2, 'FIELDS': 2, 'HANDLING': 2, 'ALREADY': 2, 'TOOL': 2, 'COMPANY': 2, 'DEEPMIND': 2, 'GOOGLE': 2, 'ACROSS': 2, 'HERE': 2, 'TECHNIQUES': 2, 'UNCOVER': 2, 'HISTORY': 2, 'ARTWORKS': 2, 'BIOLOGY': 2, 'TAKES': 2, 'CREATURES': 2, 'JELLYFISH': 2, 'CORALS': 2, 'COMPLEX': 2, 'SPECIMENS': 2, 'FLEXIBLE': 2, 'APPROACHES': 2, 'BUILDING': 2, 'CONVENTIONAL': 2, 'OTHERS': 2, 'ENTIRELY': 2, 'Â€ŒAND': 2, 'ANSWER': 2, 'PAST': 2, 'WOOD': 2, 'ROBOTICIST': 2, 'CAMBRIDGE': 2, 'MASSACHUSETTS': 2, 'GO': 2, 'HIS': 2, 'COLLEAGUES': 2, 'FIELD': 2, '2021': 2, 'DESIGNED': 2, 'WESTERN': 2, 'PACIFIC': 2, 'OCEAN': 2, 'FOCUSED': 2, 'PROGRESS': 2, 'SOPHISTICATED': 2, 'METHODS': 2, 'DEVELOPED': 2, 'STILL': 2, 'USE': 2, 'COMPONENTS': 2, 'YET': 2, 'WIDELY': 2, 'ENTHUSIASTIC': 2, 'USEFUL': 2, 'THREE': 2, 'WATERS': 2, 'ORDER': 2, 'SHIFTS': 2, 'GLOBAL': 2, 'ACTIVITY': 2, 'KNOWLEDGE': 2, 'KNOWN': 2, 'EVENTS': 2, 'PREDICTIONS': 2, 'MAKE': 2, 'HAMÂ€™S': 2, 'Â€ŒSO': 2, 'THROUGH': 2, 'PRODUCE': 2, 'PROJECTIONS': 2, 'WELL': 2, 'DELIVER': 2, 'STUDY': 2, 'ACCURATELY': 2, 'OVERCOME': 2, 'DEEP-LEARNING': 2, 'PARAMETERS': 2, 'MODELLING': 2, 'CURRENT': 2, 'REGIONAL': 2, 'REMAIN': 2, 'LARGELY': 2, 'REACH': 2, 'DERIVED': 2, 'MODELS': 2, 'UNDERSTANDING': 2, 'KEY': 2, 'APPLYING': 2, 'PRELIMINARY': 2, 'GROUP': 2, 'ISSUE': 2, 'APPLIED': 2, 'Â€ŒI': 2, 'THINK': 2, 'DISCOVERY': 2, 'TRANSITION-METAL': 2, 'VARIETY': 2, 'PUBLISHED': 2, 'CALLED': 2, 'CATALYSTS': 2, 'METHANE': 2, 'ABLE': 2, 'DAYS': 2, 'WOULD': 2, 'COMPONENT': 2, 'TRAIN': 2, 'BOTH': 2, 'REMAINS': 2, 'DONÂ€™T': 2, 'WHAT': 2, 'GENERATED': 2, 'PARTICULAR': 2, 'CONDITIONS': 2, 'ASPECTS': 2, 'TIME': 2, 'DA': 2, 'PAINTINGS': 2, 'LONDON': 2, 'GALLERY': 2, 'DETECT': 2, 'PIGMENTS': 2, 'WORLD': 2, 'TOGETHER': 2, 'INFORMATION': 2, 'DISCIPLINES': 2, 'EXPERTS': 2, 'POTENTIALLY': 2, 'POINTS': 2, 'SEES': 2, 'CURATORS': 2} \n",
      "\n",
      "Words that occur 5 times: \n",
      " {'SCIENTISTS': 5, 'NEW': 5, 'BASED': 5, 'UNIVERSITY': 5, 'EXAMPLE': 5, 'IMAGING': 5, 'HE': 5, 'ALTHOUGH': 5, 'PATTERNS': 5, 'CHEMICAL': 5, 'COMPUTATIONAL': 5} \n",
      "\n",
      "Words that occur 10 times: \n",
      " {'OTHER': 10, 'BE': 10} \n",
      "\n"
     ]
    }
   ],
   "source": [
    "# Task 4: What are the words appear exactly 2 time, 5 times, and 10 times, respectively?\n",
    "print('Words that occur 2 times: \\n',{key: value for key, value in word_counts.items() if value == 2}, '\\n')\n",
    "print('Words that occur 5 times: \\n',{key: value for key, value in word_counts.items() if value == 5}, '\\n')\n",
    "print('Words that occur 10 times: \\n',{key: value for key, value in word_counts.items() if value == 10}, '\\n')"
   ]
  },
  {
   "cell_type": "code",
   "execution_count": 6,
   "id": "f5946dbb",
   "metadata": {},
   "outputs": [
    {
     "data": {
      "text/plain": [
       "<BarContainer object of 27 artists>"
      ]
     },
     "execution_count": 6,
     "metadata": {},
     "output_type": "execute_result"
    },
    {
     "data": {
      "image/png": "[encoded data removed]",
      "text/plain": [
       "<Figure size 640x480 with 1 Axes>"
      ]
     },
     "metadata": {},
     "output_type": "display_data"
    }
   ],
   "source": [
    "# Task 5: Draw a bar figure to show the average length of words for each appearance frequency.\\\n",
    "word_lists = {}\n",
    "for word,count in word_counts.items():\n",
    "    try:\n",
    "        word_lists[count].append(word)\n",
    "    except:\n",
    "        word_lists[count] = [word]\n",
    "appearances = list(word_lists.keys()) \n",
    "num_words = [len(value) for value in word_lists.values()]\n",
    "avg_len = [sum([len(word) for word in value]) / len(value) for value in word_lists.values()] # avg. word length for each key \n",
    "\n",
    "import matplotlib.pyplot as plt \n",
    "plt.bar(appearances, avg_len)"
   ]
  },
  {
   "cell_type": "code",
   "execution_count": null,
   "id": "29a5eacd",
   "metadata": {},
   "outputs": [],
   "source": []
  }
 ],
 "metadata": {
  "kernelspec": {
   "display_name": "Python 3 (ipykernel)",
   "language": "python",
   "name": "python3"
  },
  "language_info": {
   "codemirror_mode": {
    "name": "ipython",
    "version": 3
   },
   "file_extension": ".py",
   "mimetype": "text/x-python",
   "name": "python",
   "nbconvert_exporter": "python",
   "pygments_lexer": "ipython3",
   "version": "3.9.12"
  }
 },
 "nbformat": 4,
 "nbformat_minor": 5
}
