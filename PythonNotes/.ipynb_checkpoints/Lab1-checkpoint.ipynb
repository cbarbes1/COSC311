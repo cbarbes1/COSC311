{
 "cells": [
  {
   "cell_type": "markdown",
   "id": "6910193d",
   "metadata": {},
   "source": [
    "# Lab 1 Report\n",
    "\n",
    "Name: Cole Barbes"
   ]
  },
  {
   "cell_type": "code",
   "execution_count": 23,
   "id": "8871c87e",
   "metadata": {},
   "outputs": [
    {
     "name": "stdout",
     "output_type": "stream",
     "text": [
      "937\n"
     ]
    }
   ],
   "source": [
    "# Task 1: How many different words appeared in this paper\n",
    "word_counts = {}\n",
    "with open('NaturePaper.txt', 'r', errors='ignore') as file:\n",
    "    for line in file:\n",
    "        tokens = line.upper().replace(',','').replace(';','').replace('(','').replace(')','')\\\n",
    "            .replace('!','').replace('?','').replace('.','').split()\n",
    "        for word in tokens:\n",
    "            try:\n",
    "                word_counts[word] += 1\n",
    "            except:\n",
    "                word_counts[word] = 1\n",
    "print(len(word_counts))"
   ]
  },
  {
   "cell_type": "code",
   "execution_count": 21,
   "id": "28ca57b2",
   "metadata": {},
   "outputs": [
    {
     "name": "stdout",
     "output_type": "stream",
     "text": [
      "{'FOUR': 1, 'WAYS': 1, 'THAT': 36, 'AI': 22, 'AND': 43, 'ROBOTICS': 3, 'ARE': 23, 'HELPING': 2, 'TO': 73, 'TRANSFORM': 4, 'OTHER': 10, 'RESEARCH': 2, 'FIELDS': 2, 'FROM': 7, 'HANDLING': 2, 'DEEP-SEA': 3, 'ORGANISMS': 3, 'IMPROVING': 1, 'CLIMATE': 12, 'FORECASTING': 3, 'THE': 90, 'TECHNOLOGY': 4, 'CAN': 17, 'BE': 10, 'TRANSFORMATIVE': 1, 'BY': 9, 'MICHAEL': 1, 'EISENSTEIN': 1, 'HTTPS://WWWNATURECOM/ARTICLES/D41586-022-03209-2': 1, 'ARTIFICIAL': 1, 'INTELLIGENCE': 1, 'IS': 20, 'ALREADY': 2, 'PROVING': 1, 'A': 48, 'REVOLUTIONARY': 1, 'TOOL': 2, 'FOR': 23, 'BIOINFORMATICS': 1, 'ALPHAFOLD': 1, 'DATABASE': 1, 'SET': 1, 'UP': 3, 'LONDON-BASED': 1, 'COMPANY': 2, 'DEEPMIND': 2, 'OWNED': 1, 'GOOGLE': 2, 'ALLOWING': 4, 'SCIENTISTS': 5, 'PREDICT': 1, 'STRUCTURES': 3, 'OF': 74, '200': 1, 'MILLION': 3, 'PROTEINS': 1, 'ACROSS': 2, '1': 1, 'SPECIES': 3, 'BUT': 16, 'BENEFITING': 1, 'TOO': 3, 'HERE': 2, 'WE': 3, 'DESCRIBE': 1, 'WORK': 9, 'RESEARCHERS': 7, 'PURSUING': 1, 'CUTTING-EDGE': 1, 'TECHNIQUES': 2, 'BETTER': 1, 'ANTICIPATE': 1, 'PLANETÂ€™S': 1, 'CHANGING': 1, 'UNCOVER': 2, 'HIDDEN': 3, 'HISTORY': 2, 'BEHIND': 1, 'ARTWORKS': 2, 'UNDERSTAND': 1, 'DEEP': 6, 'SEA': 3, 'ECOLOGY': 1, 'DEVELOP': 1, 'NEW': 5, 'MATERIALS': 7, 'MARINE': 4, 'BIOLOGY': 2, 'WITH': 15, 'SOFT': 7, 'TOUCH': 1, 'IT': 8, 'TAKES': 2, 'TOUGH': 1, 'ORGANISM': 1, 'WITHSTAND': 1, 'RIGOURS': 1, 'LIVING': 1, 'THESE': 15, 'RESILIENT': 1, 'ALSO': 8, 'OFTEN': 1, 'REMARKABLY': 1, 'DELICATE': 1, 'RANGING': 1, 'SQUISHY': 1, 'CREATURES': 2, 'SUCH': 11, 'AS': 13, 'JELLYFISH': 2, 'CUCUMBERS': 1, 'FIRM': 1, 'FRAGILE': 1, 'FISHES': 1, 'CORALS': 2, 'THEIR': 7, 'FRAGILITY': 1, 'MAKES': 1, 'STUDYING': 1, 'COMPLEX': 2, 'TASK': 1, 'RUGGED': 1, 'METAL': 1, 'MANIPULATORS': 1, 'FOUND': 1, 'ON': 18, 'MANY': 3, 'UNDERSEA': 1, 'ROBOTS': 4, 'MORE': 6, 'LIKELY': 1, 'HARM': 1, 'SPECIMENS': 2, 'THAN': 3, 'RETRIEVE': 1, 'THEM': 3, 'INTACT': 1, 'Â€˜SOFT': 1, 'ROBOTSÂ€™': 1, 'BASED': 5, 'FLEXIBLE': 2, 'POLYMERS': 1, 'GIVING': 3, 'BIOLOGISTS': 1, 'DAVID': 1, 'GRUBER': 6, 'CITY': 1, 'UNIVERSITY': 5, 'YORK': 1, 'GENTLER': 1, 'ALTERNATIVE': 1, 'INTERACTING': 1, 'ENIGMATIC': 1, 'DENIZENS': 1, 'SOME': 3, 'APPROACHES': 2, 'INVOLVE': 1, 'BUILDING': 2, 'SAMPLE-HANDLING': 1, 'ARMS': 1, 'CONVENTIONAL': 2, 'AUTONOMOUS': 1, 'VEHICLES': 1, 'SOFTER': 1, 'ELEMENTS': 4, 'WHEREAS': 1, 'OTHERS': 2, 'CLOSELY': 1, 'MIMIC': 1, 'SUBJECTS': 1, 'ENTIRELY': 2, 'COMPOSED': 1, 'QUESTION': 1, 'SAYS': 11, 'WHETHER': 1, 'THIS': 11, 'WILL': 3, 'ALLOW': 1, 'TAKE': 1, 'BIOPSY': 1, 'SAMPLES': 1, 'IN': 48, 'Â€ŒAND': 2, 'DO': 3, 'THINGS': 1, 'NORMALLY': 1, 'CONTROLLED': 1, 'LAB': 1, 'ENVIRONMENT': 1, 'INSIDE': 1, 'SPHERE': 1, 'SUBMARINEÂ€': 1, 'ANSWER': 2, 'SEEMS': 1, 'DECISIVE': 1, 'YES': 1, 'OVER': 3, 'PAST': 2, 'EIGHT': 1, 'YEARS': 4, 'HAS': 8, 'BEEN': 3, 'COLLABORATING': 1, 'ROBERT': 1, 'WOOD': 2, 'ROBOTICIST': 2, 'AT': 16, 'HARVARD': 1, 'CAMBRIDGE': 2, 'MASSACHUSETTS': 2, 'CONSTRUCT': 1, 'OPERATE': 1, 'EFFECTIVELY': 1, 'ENVIRONMENTS': 1, 'WHERE': 3, 'DIVERS': 1, 'FEAR': 1, 'GO': 2, 'NUMBER': 3, 'HIS': 2, 'COLLEAGUES': 2, 'FIELD': 2, 'HAVE': 13, 'ACCOMPLISHED': 1, 'SIMILAR': 1, 'FEATS': 1, '2021': 2, 'EXAMPLE': 5, 'CHINESE': 1, 'LED': 1, 'TIEFENG': 1, 'LI': 1, 'ZHEJIANG': 1, 'DESIGNED': 2, 'ROBOT': 3, 'COULD': 8, 'NAVIGATE': 1, 'GLOOMY': 1, 'DEPTHS': 1, 'MARIANA': 1, 'TRENCH': 1, 'Â€”': 12, 'NEARLY': 1, '11': 1, 'KILOMETRES': 1, 'BELOW': 1, 'SURFACE': 4, 'WESTERN': 2, 'PACIFIC': 2, 'OCEAN': 2, 'EARLY': 3, 'GENERATIONS': 1, 'PRINCIPALLY': 1, 'FOCUSED': 2, 'SAFE': 1, 'CAPTURE': 1, 'LIVE': 1, 'NEXT': 1, 'WAVE': 1, 'SHOULD': 1, 'CAPABLE': 1, 'CONDUCTING': 1, 'EXTENSIVE': 1, 'ANALYSES': 3, 'WITHOUT': 1, 'RETURNING': 1, 'LAND': 1, 'DESCRIBES': 1, 'PROGRESS': 2, 'DEVELOPING': 1, 'SYSTEMS': 4, 'PERFORMING': 1, 'MASS': 1, 'SPECTROMETRY': 1, 'OR': 15, 'SOPHISTICATED': 2, 'IMAGING': 5, 'METHODS': 2, 'UNDERWATER': 1, 'HE': 5, 'EVEN': 6, 'DEVELOPED': 2, 'GENOMIC': 1, 'ANALYSIS': 3, 'NEWLY': 1, 'CAPTURED': 1, 'COST': 3, 'STILL': 2, 'VERY': 4, 'MUCH': 3, 'AN': 12, 'OBSTACLE': 1, 'NOTES': 3, 'SMALLER': 1, 'SUBMERSIBLE': 1, 'HUNDREDS': 1, 'THOUSANDS': 1, 'DOLLARS': 1, 'DESIGN': 3, 'CONFERS': 1, 'LOT': 1, 'FLEXIBILITY': 1, 'GRUBERÂ€™S': 1, 'DEMONSTRATED': 1, 'THEY': 3, 'USE': 2, '3D': 1, 'PRINTERS': 1, 'CREATE': 1, 'SPECIALIZED': 1, 'MANIPULATING': 1, 'GRIPPING': 1, 'COMPONENTS': 2, 'WHILE': 1, 'WORKING': 3, 'QUICKLY': 3, 'CUSTOMIZE': 1, 'SPOTTED': 1, 'DURING': 1, 'EXPEDITION': 1, 'ALTHOUGH': 5, 'NOT': 4, 'YET': 2, 'WIDELY': 2, 'EMBRACED': 1, 'ENTHUSIASTIC': 2, 'ABOUT': 8, 'HOW': 4, 'MIGHT': 4, 'GAIN': 1, 'USEFUL': 2, 'INSIGHTS': 4, 'INTO': 4, 'RATHER': 3, 'JUST': 1, 'FLEETING': 1, 'SNAPSHOTS': 1, 'SUBMARINE': 1, 'CAMERA': 1, 'Â€ŒMOST': 1, 'ANIMALS': 1, 'SO': 3, 'KNOW': 1, 'EITHER': 1, 'LITTLE': 1, 'NOTHING': 1, 'THEMÂ€': 1, 'TRANSFORMING': 1, 'FORECASTS': 1, 'EVERY': 1, 'THREE': 2, 'SEVEN': 1, 'WATERS': 2, 'FLUCTUATE': 1, 'BETWEEN': 1, 'RELATIVELY': 1, 'WARM': 1, 'COOL': 1, 'TEMPERATURES': 1, 'ONLY': 3, 'ORDER': 2, 'FEW': 1, 'DEGREES': 1, 'SHIFTS': 2, 'PROFOUND': 1, 'EFFECTS': 1, 'GLOBAL': 2, 'STRONG': 1, 'INFLUENCE': 1, 'RAINFALL': 1, 'STORM': 1, 'ACTIVITY': 2, 'ASIA': 1, 'OCEANIA': 1, 'AMERICAS': 1, 'KNOWLEDGE': 2, 'TIMING': 1, 'KNOWN': 2, 'FORMALLY': 1, 'EL': 1, 'NIÃ±OÂ€“SOUTHERN': 1, 'OSCILLATION': 1, 'ENSO': 3, 'HELP': 3, 'COMMUNITIES': 1, 'PREPARE': 1, 'DROUGHTS': 1, 'SEVERE': 1, 'HURRICANES': 1, 'EXTREME': 1, 'WEATHER': 1, 'EVENTS': 2, 'PREDICTIONS': 2, 'DIFFICULT': 1, 'MAKE': 2, 'GREAT': 1, 'CONFIDENCE': 1, '2019': 1, 'YOO-GEUN': 1, 'HAMÂ€™S': 2, 'TEAM': 4, 'CHONNAM': 1, 'NATIONAL': 3, 'GWANGJU': 1, 'SOUTH': 1, 'KOREA': 1, 'ALGORITHM': 6, 'TECHNIQUE': 1, 'LEARNING': 4, 'SUCCESSFULLY': 1, 'FORECAST': 1, 'OCEANIC': 3, 'WARMING': 1, 'COOLING': 1, 'TWO': 1, 'ADVANCE': 1, 'INDEED': 1, 'ALGORITHMÂ€™S': 1, 'CONSISTENTLY': 1, 'ANTICIPATED': 1, 'PATTERNS': 5, 'Â€ŒSO': 2, 'FAR': 1, 'GOODÂ€': 1, 'HAM': 4, 'ADDITION': 1, 'SCIENCE': 1, 'TOOLBOX': 1, 'PROVED': 1, 'ADEPT': 1, 'COMBING': 1, 'THROUGH': 2, 'OBSERVATIONAL': 1, 'DATA': 14, 'SPOT': 1, 'MEANINGFUL': 1, 'ATMOSPHERIC': 1, 'CASES': 1, 'PRODUCE': 2, 'PROJECTIONS': 2, 'WELL': 2, 'FUTURE': 3, 'DELIVER': 2, 'IMMEDIATELY': 1, 'RELEVANT': 1, 'STUDY': 2, 'SISTER': 1, 'SHOWCASED': 1, 'Â€˜NOWCASTINGÂ€™': 1, 'APPLIES': 1, 'REAL-TIME': 1, 'RADAR': 1, 'ACCURATELY': 2, 'PROJECT': 1, 'PRECIPITATION': 1, 'COMING': 1, 'HOURS': 1, 'USING': 3, 'OVERCOME': 2, 'SHORTCOMINGS': 1, 'STATISTICAL': 1, 'PHYSICS-BASED': 1, 'CLIMATOLOGY': 1, 'DEEP-LEARNING': 2, 'ALGORITHMS': 8, 'USED': 8, 'IDENTIFY': 4, 'ESSENTIAL': 1, 'PARAMETERS': 2, 'MODELLING': 2, 'IMPOSSIBLE': 1, 'QUANTIFY': 1, 'CURRENT': 2, 'DIRECT': 1, 'OBSERVATION': 1, 'MIXING': 1, 'REGIONAL': 2, 'MOVEMENT': 1, 'CLOUDS': 1, 'ONE': 4, 'APPLY': 1, 'FILL': 1, 'GAPS': 1, 'HISTORIC': 1, 'MOST': 3, 'DATE': 1, 'SPECIFIC': 1, 'BIGGER': 1, 'PLANET-WIDE': 1, 'QUESTIONS': 1, 'REMAIN': 2, 'LARGELY': 2, 'OUT': 3, 'AIÂ€™S': 1, 'REACH': 2, 'NOW': 3, 'SCALE': 1, 'TYPICALLY': 1, 'DERIVED': 2, 'EARTH': 1, 'SYSTEM': 1, 'MODELS': 2, 'MATHEMATICAL': 1, 'FRAMEWORKS': 1, 'GROUNDED': 1, 'UNDERSTANDING': 2, 'KEY': 2, 'PHYSICAL': 3, 'PROCESSES': 1, 'OCEANS': 1, 'ATMOSPHERE': 1, 'TERRESTRIAL': 1, 'ECOSYSTEMS': 1, 'AREA': 4, 'Â€ŒIS': 1, 'APPLYING': 2, 'MODELLINGÂ€': 1, 'PRELIMINARY': 2, 'ROBUSTLY': 1, 'EVALUATED': 1, 'VALIDATED': 1, 'TERMS': 1, 'ACCURACY': 1, 'PART': 4, 'PROBLEM': 1, 'GENERALLY': 3, 'REAL': 1, 'PHENOMENA': 1, 'ADDED': 1, 'DIFFICULTY': 1, 'RETRACING': 1, 'PROCESS': 4, 'ITS': 3, 'CONCLUSIONS': 1, 'GROUP': 2, 'WORKED': 1, 'HARD': 1, 'SCEPTICISM': 1, 'RELATED': 1, 'ISSUE': 2, 'Â€ŒWE': 4, 'APPLIED': 2, 'STRICT': 1, 'VALIDATION': 1, 'METHOD': 1, 'PROVE': 1, 'OUR': 1, 'MODEL': 1, 'REALLY': 1, 'SOMETHING': 1, 'BEYOND': 1, 'STATE-OF-THE-ART': 1, 'PREDICTION': 1, 'SYSTEMSÂ€': 1, 'BELIEVES': 1, 'ULTIMATELY': 1, 'Â€ŒI': 2, 'THINK': 2, 'PRETTY': 1, 'BRIGHTÂ€': 1, 'CATALYSING': 1, 'DISCOVERY': 2, 'TRANSITION-METAL': 2, 'IRON': 1, 'COPPER': 1, 'PLATINUM': 1, 'CHEMICAL': 5, 'PROCESSING': 1, 'SYNTHESIS': 1, 'VARIETY': 2, 'INDUSTRIES': 1, 'BECAUSE': 1, 'DISTINCTIVE': 1, 'ELECTRONIC': 1, 'SUITABLE': 1, 'CATALYSIS': 1, 'SCRATCHED': 1, 'VAST': 1, 'UNIVERSE': 1, 'POSSIBLE': 3, 'FORMULATIONS': 1, 'HOWEVER': 1, 'COMPOUNDS': 3, 'DISCOVERED': 1, 'SUPERIOR': 1, 'CATALYTIC': 1, 'PERFORMANCE': 3, 'LOWER': 1, 'SIMPLER': 1, 'PRODUCTION': 1, 'COMPUTATIONAL': 5, 'CHEMIST': 1, 'HEATHER': 1, 'KULIK': 6, 'INSTITUTE': 1, 'EVER-GROWING': 1, 'COMMUNITY': 1, 'WHO': 1, 'DRAMATICALLY': 1, 'ACCELERATE': 1, 'MATERIAL': 1, 'PUBLISHED': 2, 'YEAR': 1, 'HER': 4, 'APPROACH': 1, 'CALLED': 2, 'Â€˜ACTIVE': 1, 'LEARNINGÂ€™': 1, 'WHICH': 4, 'USES': 3, 'OWN': 1, 'LEAD': 1, 'FURTHER': 1, 'IMPROVEMENTS': 1, 'STRUCTURAL': 1, 'FEATURES': 3, 'CATALYSTS': 2, 'EFFICIENTLY': 1, 'CONVERT': 1, 'METHANE': 2, 'METHANOL': 1, 'SEARCHED': 1, '16': 1, 'CANDIDATE': 1, 'CATALYSTSÂ€': 1, 'WERE': 1, 'ABLE': 2, 'COME': 3, 'PRINCIPLES': 1, 'DAYS': 2, 'WEEKS': 1, 'WOULD': 2, 'OTHERWISE': 1, 'TAKEN': 1, 'DECADESÂ€': 1, 'IMPORTANT': 1, 'FACILITATE': 1, 'EFFICIENT': 1, 'TRANSFORMATION': 1, 'MAJOR': 1, 'COMPONENT': 2, 'FOSSIL': 1, 'FUELS': 1, 'GREENHOUSE': 1, 'GAS': 1, 'VERSATILE': 1, 'BLOCK': 1, 'CREDITS': 1, 'FIELDÂ€™S': 1, 'GROWTH': 1, 'SURGE': 1, 'DEVELOPMENT': 1, 'OPEN-SOURCE': 1, 'TOOLKITS': 1, 'EASIER': 1, 'TRAIN': 2, 'WIDE': 1, 'RANGE': 1, 'PHYSICOCHEMICAL': 1, 'DISCOVER': 1, 'POTENTIAL': 1, 'THERE': 1, 'PUBLICLY': 1, 'ACCESSIBLE': 1, 'REPOSITORIES': 1, 'BOTH': 2, 'THEORETICAL': 1, 'EXPERIMENTALLY': 1, 'FED': 1, 'ACCESS': 1, 'HIGH-QUALITY': 3, 'REMAINS': 2, 'PRESSING': 1, 'DONÂ€™T': 2, 'THEREÂ€™S': 1, 'CONSENSUS': 1, 'WHAT': 2, 'GENERATE': 1, 'SETÂ€': 1, 'SHE': 4, 'NOTING': 1, 'RELIES': 1, 'INTERNALLY': 1, 'GENERATED': 2, 'MACHINE-LEARNING': 1, 'LITERATURE': 1, 'DIRECTLY': 1, 'HARVEST': 1, 'DIFFERENT': 4, 'FAMILIES': 1, 'VIA': 1, 'TEXT': 1, 'MINING': 1, 'PRESENT': 1, 'OPTIMIZED': 1, 'PARTICULAR': 2, 'CHARACTERISTIC': 1, 'STABILITY': 1, 'UNDER': 3, 'ENVIRONMENTAL': 1, 'CONDITIONS': 2, 'PROMISING': 1, 'WAY': 1, 'Â€˜MULTI-OBJECTIVE': 1, 'OPTIMIZATIONÂ€™': 1, 'MACHINE': 1, 'HOME': 1, 'SIMULTANEOUSLY': 1, 'YIELD': 1, 'EXCELLENT': 1, 'NASCENT': 1, 'CHEMISTRY': 1, 'OVERSEE': 1, 'ASPECTS': 2, 'ITSELF': 1, 'IDEA': 1, 'ELIMINATE': 1, 'FALSE': 1, 'STARTS': 1, 'DEAD': 1, 'ENDS': 1, 'ARISE': 1, 'TYPICAL': 1, 'MACHINE-LEARNING-BASED': 1, 'EXPERIMENT': 1, 'TRAINING': 1, 'COMPUTER': 1, 'RECOGNIZE': 1, 'POOR-QUALITY': 1, 'REALISTIC': 1, 'FAILURE': 1, 'TAKING': 1, 'HUMAN': 1, 'EXPERT': 1, 'DEVOTE': 1, 'TIME': 2, 'ENERGY': 1, 'RESULTS': 1, 'PHD': 1, 'CANDIDATES': 1, 'SPEND': 1, 'ALL': 1, 'DOING': 1, 'TEDIOUS': 1, 'THINGSÂ€': 1, 'SCRATCHING': 1, 'GREATEST': 1, 'ARTISTS': 1, 'START': 1, 'ROUGH': 1, 'DRAFT': 1, 'MASTERS': 1, 'LEONARDO': 1, 'DA': 2, 'VINCI': 1, 'EFFORTS': 1, 'LOST': 1, 'COMBINATION': 1, 'MADE': 1, 'EXCAVATE': 1, 'SKETCHES': 1, 'CONCEALED': 1, 'FINISHED': 1, 'PAINTINGS': 2, 'COLLABORATION': 1, 'IMPERIAL': 1, 'COLLEGE': 1, 'LONDON': 2, 'ELECTRICAL': 1, 'ENGINEER': 1, 'PIER': 1, 'LUIGI': 1, 'DRAGOTTI': 1, 'CATHERINE': 1, 'HIGGITT': 6, 'PRINCIPAL': 1, 'SCIENTIST': 1, 'GALLERY': 2, 'WAS': 1, 'DETECT': 2, 'TRACES': 1, 'ANGEL': 1, 'FIGURES': 1, 'VINCIÂ€™S': 1, 'LATE-FIFTEENTH-CENTURY': 1, 'VIRGIN': 1, 'ROCKS': 1, 'FIRST': 1, 'X-RAY': 1, 'FLUORESCENCE': 1, 'ASSOCIATED': 1, 'CERTAIN': 1, 'PIGMENTS': 2, 'THROUGHOUT': 1, 'PAINTING': 1, 'THEN': 1, 'RECONSTRUCT': 1, 'FORMED': 1, 'THOSE': 1, 'NON-INVASIVE': 1, 'BECOMING': 1, 'STANDARD': 1, 'WORLD': 2, 'ART': 3, 'RESTORATION': 1, 'VOLUME': 1, 'BECOME': 1, 'OVERWHELMING': 1, 'RARELY': 1, 'RELY': 1, 'SINGLE': 1, 'TECHNIQUEÂ€': 1, 'TEND': 1, 'PIECING': 1, 'TOGETHER': 2, 'INFORMATION': 2, 'YOU': 1, 'SERIES': 1, 'TYPES': 1, 'WAVELENGTHSÂ€': 1, 'HANDY:': 1, 'INTEGRATE': 1, 'INTERPRET': 1, 'SETS': 1, 'KINDS': 1, 'AI-ASSISTED': 1, 'IMAGE': 1, 'FAIRLY': 1, 'COMMON': 1, 'DISCIPLINES': 2, 'BIOMEDICAL': 1, 'MUSEUM': 1, 'LACK': 1, 'RESOURCES': 1, 'EXPERTISE': 1, 'TECHNOLOGIES': 1, 'THEMSELVES': 1, 'JOINED': 1, 'FORCES': 1, 'UK': 1, 'INITIATIVE': 1, 'ARTICT': 1, 'BROUGHT': 1, 'EXPERTS': 2, 'SPECIALISTS': 1, 'VARIOUS': 1, 'TODAY': 1, 'REGULAR': 1, 'HIGGITTÂ€™S': 1, 'PUTS': 1, 'CUTTING': 1, 'EDGE': 1, 'RELATIVE': 1, 'MUSEUMS': 1, 'ACKNOWLEDGES': 1, 'Â€ŒITÂ€™S': 1, 'BABY': 1, 'STEPSÂ€': 1, 'GROUPS': 1, 'DEMONSTRATING': 1, 'GAINED': 1, 'ALGORITHMIC': 1, 'RUSSIA': 1, 'BELGIUM': 1, 'NEURAL': 1, 'NETWORKS': 1, 'Â€˜VIRTUAL': 1, 'RESTORATIONÂ€™': 1, 'DIGITALLY': 1, 'PATCHING': 1, 'CRACKS': 1, 'FILLING': 1, 'BITS': 1, 'MISSING': 1, 'FADED': 1, 'PAINT': 1, 'DEGRADED': 1, 'ANOTHER': 1, 'CASE': 1, 'RESERVE': 1, 'CLEVELAND': 1, 'OHIO': 1, 'DEVISED': 1, 'ARTIST': 1, 'RESPONSIBLE': 1, 'GIVEN': 1, 'BRUSHSTROKES': 1, 'POTENTIALLY': 2, 'REVEALING': 1, 'FORGERIES': 1, 'DISCIPLINE': 1, 'CAUTIOUS': 1, 'CREDENCE': 1, 'POINTS': 2, 'DIFFICULTIES': 1, 'CHECKING': 1, 'ARRIVE': 1, 'UNCLEAR': 1, 'TRAINED': 1, 'ARTWORK': 1, 'PERFORM': 1, 'SEES': 2, 'PROVIDING': 1, 'Â€ŒFIRST': 1, 'PASSÂ€': 1, 'PULL': 1, 'Â€ŒTRENDS': 1, 'CHEMISTS': 1, 'CONSERVATORS': 1, 'CURATORS': 2, 'BACK': 1, 'REVIEWÂ€': 1, 'CONTINUES': 1, 'EXCITING': 1, 'OPPORTUNITIES': 1, 'PUBLIC': 1, 'INTERACT': 1, 'INCLUDE': 1, 'RECONSTRUCTING': 1, 'ARTWORKÂ€™S': 1, 'Â€ŒLIFE': 1, 'STORYÂ€': 1, 'VIEWERS': 1, 'Â€ŒA': 1, 'SENSE': 1, 'PIECE': 1, 'ORIGINALLY': 1, 'SITUATED': 1, 'LOOKED': 1, 'LIKE': 1, 'PASTÂ€': 1, 'NATURE': 1, '610': 1, 'S6-S8': 1, '2022': 1, 'DOI:': 1, 'HTTPS://DOIORG/101038/D41586-022-03209-2': 1}\n"
     ]
    }
   ],
   "source": [
    "# Task 2: What are the 10 words that appear most frequently (from high to low)?\n",
    "temp = sort(word_counts)"
   ]
  },
  {
   "cell_type": "code",
   "execution_count": 26,
   "id": "465f3c4d",
   "metadata": {},
   "outputs": [
    {
     "name": "stdout",
     "output_type": "stream",
     "text": [
      "22\n",
      "3\n",
      "12\n",
      "7\n",
      "8\n"
     ]
    }
   ],
   "source": [
    "# Task 3: What are the appearance frequencies for the following words?\n",
    "# AI\n",
    "# robotics\n",
    "# climate\n",
    "# materials\n",
    "# algorithms\n",
    "print(word_counts['AI'])\n",
    "print(word_counts['robotics'.upper()])\n",
    "print(word_counts['climate'.upper()])\n",
    "print(word_counts['materials'.upper()])\n",
    "print(word_counts['algorithms'.upper()])"
   ]
  },
  {
   "cell_type": "code",
   "execution_count": 27,
   "id": "0707beee",
   "metadata": {},
   "outputs": [
    {
     "ename": "SyntaxError",
     "evalue": "invalid syntax (3885187275.py, line 1)",
     "output_type": "error",
     "traceback": [
      "\u001b[1;36m  Cell \u001b[1;32mIn[27], line 1\u001b[1;36m\u001b[0m\n\u001b[1;33m    revdict = {value, key for key, value in word_counts.items()}\u001b[0m\n\u001b[1;37m                          ^\u001b[0m\n\u001b[1;31mSyntaxError\u001b[0m\u001b[1;31m:\u001b[0m invalid syntax\n"
     ]
    }
   ],
   "source": [
    "revdict = {value, key for key, value in word_counts.items()}"
   ]
  },
  {
   "cell_type": "code",
   "execution_count": null,
   "id": "f5946dbb",
   "metadata": {},
   "outputs": [],
   "source": []
  },
  {
   "cell_type": "code",
   "execution_count": null,
   "id": "29a5eacd",
   "metadata": {},
   "outputs": [],
   "source": []
  }
 ],
 "metadata": {
  "kernelspec": {
   "display_name": "Python 3 (ipykernel)",
   "language": "python",
   "name": "python3"
  },
  "language_info": {
   "codemirror_mode": {
    "name": "ipython",
    "version": 3
   },
   "file_extension": ".py",
   "mimetype": "text/x-python",
   "name": "python",
   "nbconvert_exporter": "python",
   "pygments_lexer": "ipython3",
   "version": "3.9.12"
  }
 },
 "nbformat": 4,
 "nbformat_minor": 5
}
