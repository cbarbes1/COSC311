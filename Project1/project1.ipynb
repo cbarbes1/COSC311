{
 "cells": [
  {
   "cell_type": "markdown",
   "metadata": {},
   "source": [
    "# Project 1\n",
    "### Task 1: Self-test for KNN and DT algorithms (3 points)\n",
    "- Conduct experiments to show the self-test results (using classification report) for\n",
    "KNN and Decision Tree (DT), respectively.\n",
    "- Explain how you set parameters for the KNN model. If possible, you are suggested\n",
    "to use data analysis results to support your explanation and conclusion.\n",
    "- Explain how you set parameters for the DT model. If possible, you are suggested to\n",
    "use data analysis results to support your explanation and conclusion."
   ]
  },
  {
   "cell_type": "code",
   "execution_count": 2,
   "metadata": {},
   "outputs": [
    {
     "name": "stdout",
     "output_type": "stream",
     "text": [
      "Defaulting to user installation because normal site-packages is not writeable\n",
      "Requirement already satisfied: pandas in /home/cole/.local/lib/python3.10/site-packages (2.2.1)\n",
      "Requirement already satisfied: numpy<2,>=1.22.4 in /home/cole/.local/lib/python3.10/site-packages (from pandas) (1.26.4)\n",
      "Requirement already satisfied: tzdata>=2022.7 in /home/cole/.local/lib/python3.10/site-packages (from pandas) (2024.1)\n",
      "Requirement already satisfied: pytz>=2020.1 in /usr/lib/python3/dist-packages (from pandas) (2022.1)\n",
      "Requirement already satisfied: python-dateutil>=2.8.2 in /home/cole/.local/lib/python3.10/site-packages (from pandas) (2.9.0.post0)\n",
      "Requirement already satisfied: six>=1.5 in /usr/lib/python3/dist-packages (from python-dateutil>=2.8.2->pandas) (1.16.0)\n",
      "Note: you may need to restart the kernel to use updated packages.\n"
     ]
    }
   ],
   "source": [
    "%pip install pandas"
   ]
  },
  {
   "cell_type": "code",
   "execution_count": 14,
   "metadata": {},
   "outputs": [
    {
     "data": {
      "text/html": [
       "<div>\n",
       "<style scoped>\n",
       "    .dataframe tbody tr th:only-of-type {\n",
       "        vertical-align: middle;\n",
       "    }\n",
       "\n",
       "    .dataframe tbody tr th {\n",
       "        vertical-align: top;\n",
       "    }\n",
       "\n",
       "    .dataframe thead th {\n",
       "        text-align: right;\n",
       "    }\n",
       "</style>\n",
       "<table border=\"1\" class=\"dataframe\">\n",
       "  <thead>\n",
       "    <tr style=\"text-align: right;\">\n",
       "      <th></th>\n",
       "      <th>0</th>\n",
       "    </tr>\n",
       "  </thead>\n",
       "  <tbody>\n",
       "    <tr>\n",
       "      <th>0</th>\n",
       "      <td>-64\\t-56\\t-61\\t-66\\t-71\\t-82\\t-81\\t1</td>\n",
       "    </tr>\n",
       "    <tr>\n",
       "      <th>1</th>\n",
       "      <td>-68\\t-57\\t-61\\t-65\\t-71\\t-85\\t-85\\t1</td>\n",
       "    </tr>\n",
       "    <tr>\n",
       "      <th>2</th>\n",
       "      <td>-63\\t-60\\t-60\\t-67\\t-76\\t-85\\t-84\\t1</td>\n",
       "    </tr>\n",
       "    <tr>\n",
       "      <th>3</th>\n",
       "      <td>-61\\t-60\\t-68\\t-62\\t-77\\t-90\\t-80\\t1</td>\n",
       "    </tr>\n",
       "    <tr>\n",
       "      <th>4</th>\n",
       "      <td>-63\\t-65\\t-60\\t-63\\t-77\\t-81\\t-87\\t1</td>\n",
       "    </tr>\n",
       "    <tr>\n",
       "      <th>...</th>\n",
       "      <td>...</td>\n",
       "    </tr>\n",
       "    <tr>\n",
       "      <th>1995</th>\n",
       "      <td>-59\\t-59\\t-48\\t-66\\t-50\\t-86\\t-94\\t4</td>\n",
       "    </tr>\n",
       "    <tr>\n",
       "      <th>1996</th>\n",
       "      <td>-59\\t-56\\t-50\\t-62\\t-47\\t-87\\t-90\\t4</td>\n",
       "    </tr>\n",
       "    <tr>\n",
       "      <th>1997</th>\n",
       "      <td>-62\\t-59\\t-46\\t-65\\t-45\\t-87\\t-88\\t4</td>\n",
       "    </tr>\n",
       "    <tr>\n",
       "      <th>1998</th>\n",
       "      <td>-62\\t-58\\t-52\\t-61\\t-41\\t-90\\t-85\\t4</td>\n",
       "    </tr>\n",
       "    <tr>\n",
       "      <th>1999</th>\n",
       "      <td>-59\\t-50\\t-45\\t-60\\t-45\\t-88\\t-87\\t4</td>\n",
       "    </tr>\n",
       "  </tbody>\n",
       "</table>\n",
       "<p>2000 rows × 1 columns</p>\n",
       "</div>"
      ],
      "text/plain": [
       "                                         0\n",
       "0     -64\\t-56\\t-61\\t-66\\t-71\\t-82\\t-81\\t1\n",
       "1     -68\\t-57\\t-61\\t-65\\t-71\\t-85\\t-85\\t1\n",
       "2     -63\\t-60\\t-60\\t-67\\t-76\\t-85\\t-84\\t1\n",
       "3     -61\\t-60\\t-68\\t-62\\t-77\\t-90\\t-80\\t1\n",
       "4     -63\\t-65\\t-60\\t-63\\t-77\\t-81\\t-87\\t1\n",
       "...                                    ...\n",
       "1995  -59\\t-59\\t-48\\t-66\\t-50\\t-86\\t-94\\t4\n",
       "1996  -59\\t-56\\t-50\\t-62\\t-47\\t-87\\t-90\\t4\n",
       "1997  -62\\t-59\\t-46\\t-65\\t-45\\t-87\\t-88\\t4\n",
       "1998  -62\\t-58\\t-52\\t-61\\t-41\\t-90\\t-85\\t4\n",
       "1999  -59\\t-50\\t-45\\t-60\\t-45\\t-88\\t-87\\t4\n",
       "\n",
       "[2000 rows x 1 columns]"
      ]
     },
     "execution_count": 14,
     "metadata": {},
     "output_type": "execute_result"
    }
   ],
   "source": [
    "import pandas as pd\n",
    "\n",
    "data = pd.read_csv('wifi_localization.txt', header=None, names=[\"label{i}\" for i in range(0, )])\n",
    "\n",
    "data"
   ]
  },
  {
   "cell_type": "markdown",
   "metadata": {},
   "source": [
    "### Task 2: Independent-test for KNN and DT algorithms (3 points)\n",
    "- Assume we use 30% data for independent test, conduct experiments to show the\n",
    "independent-test results (using classification report) for KNN and DT, respectively.\n",
    "- Do you use the same KNN model as the self-test above?\n",
    "\n",
    "a) If yes, please exploit whether you could optimize its parameters to get better\n",
    "performance. What are the results (using classification report) of the\n",
    "optimized model?\n",
    "\n",
    "b) If no, please explain the difference between the self-test model and the\n",
    "independent-test model and why you make this change.\n",
    "- Do you use the same DT model as the self-test above?\n",
    "2\n",
    "\n",
    "a) If yes, please exploit whether you could optimize its parameters to get better\n",
    "performance. What are the results (using classification report) of the\n",
    "optimized model?\n",
    "\n",
    "b) If no, please explain the difference between the self-test model and the\n",
    "independent-test model and why you make this change."
   ]
  },
  {
   "cell_type": "code",
   "execution_count": null,
   "metadata": {},
   "outputs": [],
   "source": []
  },
  {
   "cell_type": "markdown",
   "metadata": {},
   "source": [
    "### Task 3: Classification model finalization (4 points)\n",
    "- Based on the above analysis, please further optimize corresponding parameters and\n",
    "select a model (KNN or DT) for this application scenario that can obtain the highest\n",
    "performance.\n",
    "- Please show the independent-test results (using classification report) of the above\n",
    "model when we use 30% data for test. Draw a figure to show the confusion matrix.\n",
    "- Conduct independent tests using 10%, 20%, 30%, 40%, and 50% data, respectively,\n",
    "for test. Draw a line or bar figure to show the corresponding accuracies of these\n",
    "independent tests."
   ]
  },
  {
   "cell_type": "code",
   "execution_count": null,
   "metadata": {},
   "outputs": [],
   "source": []
  }
 ],
 "metadata": {
  "kernelspec": {
   "display_name": "Python 3",
   "language": "python",
   "name": "python3"
  },
  "language_info": {
   "codemirror_mode": {
    "name": "ipython",
    "version": 3
   },
   "file_extension": ".py",
   "mimetype": "text/x-python",
   "name": "python",
   "nbconvert_exporter": "python",
   "pygments_lexer": "ipython3",
   "version": "3.10.12"
  }
 },
 "nbformat": 4,
 "nbformat_minor": 2
}
