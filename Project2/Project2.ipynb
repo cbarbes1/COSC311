{
 "cells": [
  {
   "cell_type": "code",
   "execution_count": 1,
   "metadata": {},
   "outputs": [],
   "source": [
    "import pandas as pd\n",
    "import stats as st\n",
    "import numpy as np\n",
    "import matplotlib.pyplot as plt\n",
    "from mpl_toolkits.mplot3d import Axes3D\n",
    "import math\n",
    "from sklearn.model_selection import cross_val_score\n",
    "from sklearn.model_selection import KFold \n",
    "from sklearn.tree import DecisionTreeClassifier\n",
    "from sklearn.metrics import accuracy_score\n",
    "from sklearn.neighbors import KNeighborsClassifier\n",
    "from sklearn.metrics import confusion_matrix, ConfusionMatrixDisplay\n",
    "\n",
    "names = ['COUGH', 'DRINK', 'EAT', 'READ', 'SIT', 'WALK']\n",
    "col_names = ['timestamp', 'X', 'Y', 'Z']\n",
    "\n",
    "def sliding_window(df_list: list[pd.DataFrame], window_size, offset, output_file):\n",
    "    window_df = pd.DataFrame(columns=['time_past', 'mean_X', 'mean_Y', 'mean_Z', 'mean_distance', 'target'])\n",
    "    for i in range(0, len(df_list)):\n",
    "        rows, columns = df_list[i].shape\n",
    "        for j in range(0, rows-window_size+1, offset):\n",
    "            window = df_list[i].iloc[j:j+window_size]\n",
    "            new_row_df = pd.DataFrame([[window['timestamp'].to_numpy()[-1]-window['timestamp'].to_numpy()[0], window['X'].mean(), window['Y'].mean(), window['Z'].mean(), window['distance'].mean(), window['target'].to_numpy()[0]]], columns=window_df.columns)\n",
    "            window_df = pd.concat([window_df, new_row_df], ignore_index=True)\n",
    "    return window_df\n",
    "            \n",
    "            \n",
    "\n",
    "def distance(df: pd.DataFrame):\n",
    "    return math.sqrt(float(df['X'])**2+float(df['Y'])**2 + float(df['Z'])**2)\n",
    "    \n",
    "\n",
    "frame_list = [pd.read_csv(name+'.csv') for name in names]\n",
    "\n",
    "\n",
    "for i in range(0, len(frame_list)):\n",
    "    frame_list[i] = frame_list[i].iloc[1:, :]\n",
    "    frame_list[i].reset_index(drop=True, inplace=True)\n",
    "    frame_list[i].columns = col_names\n",
    "    frame_list[i]['distance'] = frame_list[i].apply(distance, axis=1)\n",
    "    frame_list[i]['target'] = len(frame_list[i])*[i]\n",
    "    frame_list[i] = frame_list[i].astype(float)\n",
    "\n",
    "\n"
   ]
  },
  {
   "cell_type": "code",
   "execution_count": null,
   "metadata": {},
   "outputs": [],
   "source": [
    "for i in range(100, 1024, 100):\n",
    "    window_df = sliding_window(frame_list, i, 16, \"test.csv\")\n",
    "\n",
    "    X = window_df.iloc[:, :-1]\n",
    "    y = window_df['target']\n",
    "    knn = KNeighborsClassifier(n_neighbors=5)\n",
    "    knn.fit(X, y)\n",
    "    print(\"Accuracy Score for the \",i ,\"-th sliding window size\")\n",
    "    print(knn.score(X, y))\n",
    "\n"
   ]
  },
  {
   "cell_type": "code",
   "execution_count": 2,
   "metadata": {},
   "outputs": [
    {
     "name": "stderr",
     "output_type": "stream",
     "text": [
      "/tmp/ipykernel_5044/2607097942.py:24: FutureWarning: The behavior of DataFrame concatenation with empty or all-NA entries is deprecated. In a future version, this will no longer exclude empty or all-NA columns when determining the result dtypes. To retain the old behavior, exclude the relevant entries before the concat operation.\n",
      "  window_df = pd.concat([window_df, new_row_df], ignore_index=True)\n"
     ]
    },
    {
     "name": "stdout",
     "output_type": "stream",
     "text": [
      "1.0\n"
     ]
    }
   ],
   "source": [
    "window_df = sliding_window(frame_list, 800, 16, \"test.csv\")\n",
    "\n",
    "X = window_df.iloc[:, :-1]\n",
    "y = window_df['target']\n",
    "knn = KNeighborsClassifier(n_neighbors=5)\n",
    "knn.fit(X, y)\n",
    "print(knn.score(X, y))"
   ]
  },
  {
   "cell_type": "code",
   "execution_count": 3,
   "metadata": {},
   "outputs": [
    {
     "data": {
      "text/plain": [
       "array([[ 9.97131841e-01, -1.26130003e-03,  1.55212270e-04,\n",
       "         1.67814823e-04,  1.28383231e-03],\n",
       "       [ 9.97130006e-01, -1.26220675e-03,  1.55845547e-04,\n",
       "         1.67225058e-04,  1.28471668e-03],\n",
       "       [ 9.97135345e-01, -1.26149444e-03,  1.55408421e-04,\n",
       "         1.64177411e-04,  1.28357427e-03],\n",
       "       ...,\n",
       "       [ 9.97226528e-01, -1.27876510e-03, -6.04783813e-05,\n",
       "         1.16882855e-04,  1.31734569e-03],\n",
       "       [ 9.97232253e-01, -1.27845987e-03, -5.93276174e-05,\n",
       "         1.13731471e-04,  1.31622809e-03],\n",
       "       [ 9.97244411e-01, -1.27742109e-03, -6.48491944e-05,\n",
       "         9.87360740e-05,  1.31458278e-03]])"
      ]
     },
     "execution_count": 3,
     "metadata": {},
     "output_type": "execute_result"
    }
   ],
   "source": [
    "from sklearn.preprocessing import normalize\n",
    "normalize(X, norm=\"l1\") "
   ]
  },
  {
   "cell_type": "code",
   "execution_count": 19,
   "metadata": {},
   "outputs": [
    {
     "name": "stdout",
     "output_type": "stream",
     "text": [
      "1\n",
      "0.6642043056141832\n",
      "[[   2    3    0    0    0   50]\n",
      " [   2  108   13   14    0   98]\n",
      " [   0   24  830  359   76   14]\n",
      " [   0   24  339  602  171   82]\n",
      " [   0    0   47  141  489    0]\n",
      " [  13   64   22   35    0 1116]]\n"
     ]
    }
   ],
   "source": [
    "from sklearn.decomposition import PCA\n",
    "pca = PCA()\n",
    "X_new = pca.fit_transform(X)\n",
    "\n",
    "pca.get_covariance()\n",
    "\n",
    "def PCA_find(X):\n",
    "    for i in range(1, 6):\n",
    "        pca = PCA(n_components = i)\n",
    "        X_new = pca.fit_transform(X)\n",
    "        cumulative_variance = sum(pca.explained_variance_ratio_)\n",
    "        if cumulative_variance >= 0.85:\n",
    "            return i\n",
    "        \n",
    "print(PCA_find(X))\n",
    "\n",
    "X_train, X_test , y_train, y_test = train_test_split(X.iloc[:, 1:2], y, test_size = 0.4, random_state = 0)\n",
    "\n",
    "\n",
    "knn = KNeighborsClassifier(n_neighbors=5)\n",
    "knn.fit(X_train, y_train)\n",
    "print(knn.score(X_test, y_test))\n",
    "y_pred = knn.predict(X_test)\n",
    " \n",
    "cm = confusion_matrix(y_test,y_pred)\n",
    "print(cm)"
   ]
  },
  {
   "cell_type": "code",
   "execution_count": 21,
   "metadata": {},
   "outputs": [],
   "source": [
    "from sklearn.model_selection import train_test_split\n",
    "X_train, X_test , y_train, y_test = train_test_split(X, y, test_size = 0.4, random_state = 0)\n"
   ]
  },
  {
   "cell_type": "code",
   "execution_count": 22,
   "metadata": {},
   "outputs": [
    {
     "name": "stdout",
     "output_type": "stream",
     "text": [
      "1.0\n",
      "[[  55    0    0    0    0    0]\n",
      " [   0  235    0    0    0    0]\n",
      " [   0    0 1303    0    0    0]\n",
      " [   0    0    0 1218    0    0]\n",
      " [   0    0    0    0  677    0]\n",
      " [   0    0    0    0    0 1250]]\n"
     ]
    }
   ],
   "source": [
    "knn = KNeighborsClassifier(n_neighbors=5)\n",
    "knn.fit(X_train, y_train)\n",
    "print(knn.score(X_test, y_test))\n",
    "y_pred = knn.predict(X_test)\n",
    " \n",
    "cm = confusion_matrix(y_test,y_pred)\n",
    "print(cm)\n",
    " "
   ]
  },
  {
   "cell_type": "code",
   "execution_count": 23,
   "metadata": {},
   "outputs": [
    {
     "name": "stdout",
     "output_type": "stream",
     "text": [
      "Avg accuracy: 0.9995778609773975\n"
     ]
    }
   ],
   "source": [
    "from sklearn.model_selection import cross_val_score\n",
    "\n",
    "\n",
    "k = 10\n",
    "kf = KFold(n_splits=k, random_state=None)\n",
    "# DT = DecisionTreeClassifier(criterion='entropy')\n",
    " \n",
    "result = cross_val_score(knn, X_train, y_train, cv = kf)\n",
    " \n",
    "print(\"Avg accuracy: {}\".format(result.mean()))"
   ]
  },
  {
   "cell_type": "code",
   "execution_count": 8,
   "metadata": {},
   "outputs": [
    {
     "name": "stdout",
     "output_type": "stream",
     "text": [
      "[[ 102    0    0    0    0    0]\n",
      " [   0  342    0    0    0    0]\n",
      " [   0    0 1983    0    0    0]\n",
      " [   0    0    0 1859    0    0]\n",
      " [   0    0    0    0  977    0]\n",
      " [   0    0    0    0    0 1843]]\n",
      "              precision    recall  f1-score   support\n",
      "\n",
      "         0.0       1.00      1.00      1.00       102\n",
      "         1.0       1.00      1.00      1.00       342\n",
      "         2.0       1.00      1.00      1.00      1983\n",
      "         3.0       1.00      1.00      1.00      1859\n",
      "         4.0       1.00      1.00      1.00       977\n",
      "         5.0       1.00      1.00      1.00      1843\n",
      "\n",
      "    accuracy                           1.00      7106\n",
      "   macro avg       1.00      1.00      1.00      7106\n",
      "weighted avg       1.00      1.00      1.00      7106\n",
      "\n"
     ]
    },
    {
     "data": {
      "image/png": "[encoded data removed]",
      "text/plain": [
       "<Figure size 640x480 with 1 Axes>"
      ]
     },
     "metadata": {},
     "output_type": "display_data"
    }
   ],
   "source": [
    "import seaborn as sns\n",
    "from sklearn.metrics import classification_report, confusion_matrix\n",
    "DT = DecisionTreeClassifier()\n",
    "tree = DT.fit(X_train, y_train)\n",
    "y_pred = DT.predict(X_train)\n",
    "\n",
    "conf_mat = confusion_matrix(y_train, y_pred)\n",
    "print(conf_mat)\n",
    "print(classification_report(y_train, y_pred))\n",
    "DT.score(X_train, y_train)\n",
    "\n",
    "DT.score(X_train, y_train)\n",
    "sns.heatmap(conf_mat, square=True, annot=True, fmt='d', cbar=False)\n",
    "plt.xlabel('true label')\n",
    "plt.ylabel('predicted label')\n",
    "plt.show()\n"
   ]
  },
  {
   "cell_type": "code",
   "execution_count": 9,
   "metadata": {},
   "outputs": [
    {
     "name": "stdout",
     "output_type": "stream",
     "text": [
      "Avg accuracy: 0.9994372140013075\n"
     ]
    }
   ],
   "source": [
    "from sklearn.model_selection import cross_val_score\n",
    "\n",
    "\n",
    "k = 10\n",
    "kf = KFold(n_splits=k, random_state=None)\n",
    "# DT = DecisionTreeClassifier(criterion='entropy')\n",
    " \n",
    "result = cross_val_score(DT, X_train, y_train, cv = kf)\n",
    " \n",
    "print(\"Avg accuracy: {}\".format(result.mean()))"
   ]
  },
  {
   "cell_type": "code",
   "execution_count": 14,
   "metadata": {},
   "outputs": [
    {
     "name": "stdout",
     "output_type": "stream",
     "text": [
      "0.4092319937834138\n",
      "The performance for testing set\n",
      "-------------------------------\n",
      "MAE is  0.803960158351559\n",
      "MSE is  1.0088439882046218\n",
      "RMSE is  1.0044122600827918\n"
     ]
    }
   ],
   "source": [
    "\n",
    "from sklearn.linear_model import LinearRegression\n",
    "from sklearn.metrics import mean_absolute_error, mean_squared_error\n",
    "# do the regression\n",
    "model = LinearRegression()\n",
    "model.fit(X_train, y_train)\n",
    "print(model.score(X_test, y_test))\n",
    "predict = model.predict(X_test)\n",
    "\n",
    "# get the needed data\n",
    "mae = mean_absolute_error(y_test, predict)\n",
    "mse = mean_squared_error(y_test, predict)\n",
    "rmse = np.sqrt(mean_squared_error(y_test, predict))\n",
    "\n",
    "print(\"The performance for testing set\")\n",
    "print(\"-------------------------------\")\n",
    "print('MAE is ', mae)\n",
    "print('MSE is ', mse)\n",
    "print('RMSE is ',rmse)"
   ]
  },
  {
   "cell_type": "code",
   "execution_count": 12,
   "metadata": {},
   "outputs": [
    {
     "name": "stdout",
     "output_type": "stream",
     "text": [
      "Avg accuracy: 0.40270244236596736\n"
     ]
    }
   ],
   "source": [
    "from sklearn.model_selection import cross_val_score\n",
    "\n",
    "\n",
    "k = 10\n",
    "kf = KFold(n_splits=k, random_state=None)\n",
    "# DT = DecisionTreeClassifier(criterion='entropy')\n",
    " \n",
    "result = cross_val_score(model, X_train, y_train, cv = kf)\n",
    " \n",
    "print(\"Avg accuracy: {}\".format(result.mean()))"
   ]
  },
  {
   "cell_type": "code",
   "execution_count": null,
   "metadata": {},
   "outputs": [],
   "source": []
  }
 ],
 "metadata": {
  "kernelspec": {
   "display_name": "Python 3",
   "language": "python",
   "name": "python3"
  },
  "language_info": {
   "codemirror_mode": {
    "name": "ipython",
    "version": 3
   },
   "file_extension": ".py",
   "mimetype": "text/x-python",
   "name": "python",
   "nbconvert_exporter": "python",
   "pygments_lexer": "ipython3",
   "version": "3.10.12"
  }
 },
 "nbformat": 4,
 "nbformat_minor": 2
}
