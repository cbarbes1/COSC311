{
 "cells": [
  {
   "cell_type": "code",
   "execution_count": 4,
   "metadata": {},
   "outputs": [],
   "source": [
    "import pandas as pd\n",
    "import stats as st\n",
    "import numpy as np\n",
    "import matplotlib.pyplot as plt\n",
    "from mpl_toolkits.mplot3d import Axes3D\n",
    "import math\n",
    "from sklearn.model_selection import cross_val_score\n",
    "from sklearn.model_selection import KFold \n",
    "from sklearn.tree import DecisionTreeClassifier\n",
    "from sklearn.metrics import accuracy_score\n",
    "from sklearn.neighbors import KNeighborsClassifier\n",
    "from sklearn.metrics import confusion_matrix, ConfusionMatrixDisplay\n",
    "\n",
    "names = ['COUGH', 'DRINK', 'EAT', 'READ', 'SIT', 'WALK']\n",
    "col_names = ['timestamp', 'X', 'Y', 'Z']\n",
    "\n",
    "def sliding_window(df_list: list[pd.DataFrame], window_size, offset, output_file):\n",
    "    window_df = pd.DataFrame(columns=['time_past', 'mean_X', 'mean_Y', 'mean_Z', 'mean_distance', 'target'])\n",
    "    for i in range(0, len(df_list)):\n",
    "        rows, columns = df_list[i].shape\n",
    "        for j in range(0, rows-window_size+1, offset):\n",
    "            window = df_list[i].iloc[j:j+window_size]\n",
    "            new_row_df = pd.DataFrame([[window['timestamp'].to_numpy()[-1]-window['timestamp'].to_numpy()[0], window['X'].mean(), window['Y'].mean(), window['Z'].mean(), window['distance'].mean(), window['target'].to_numpy()[0]]], columns=window_df.columns)\n",
    "            window_df = pd.concat([window_df, new_row_df], ignore_index=True)\n",
    "            \n",
    "    return window_df\n",
    "            \n",
    "            \n",
    "\n",
    "def distance(df: pd.DataFrame):\n",
    "    return math.sqrt(float(df['X'])**2+float(df['Y'])**2 + float(df['Z'])**2)\n",
    "    \n",
    "\n",
    "frame_list = [pd.read_csv(name+'.csv') for name in names]\n",
    "\n",
    "\n",
    "for i in range(0, len(frame_list)):\n",
    "    frame_list[i] = frame_list[i].iloc[1:, :]\n",
    "    frame_list[i].reset_index(drop=True, inplace=True)\n",
    "    frame_list[i].columns = col_names\n",
    "    frame_list[i]['distance'] = frame_list[i].apply(distance, axis=1)\n",
    "    frame_list[i]['target'] = len(frame_list[i])*[i]\n",
    "    frame_list[i]['target'] = [item+1 for item in frame_list[i]['target']]\n",
    "    frame_list[i] = frame_list[i].astype(float)\n",
    "\n",
    "\n"
   ]
  },
  {
   "cell_type": "code",
   "execution_count": 70,
   "metadata": {},
   "outputs": [
    {
     "name": "stderr",
     "output_type": "stream",
     "text": [
      "/tmp/ipykernel_4393/1460650763.py:24: FutureWarning: The behavior of DataFrame concatenation with empty or all-NA entries is deprecated. In a future version, this will no longer exclude empty or all-NA columns when determining the result dtypes. To retain the old behavior, exclude the relevant entries before the concat operation.\n",
      "  window_df = pd.concat([window_df, new_row_df], ignore_index=True)\n"
     ]
    },
    {
     "name": "stdout",
     "output_type": "stream",
     "text": [
      "Accuracy Score for the  100 -th sliding window size\n",
      "0.9837284215742959\n"
     ]
    },
    {
     "name": "stderr",
     "output_type": "stream",
     "text": [
      "/tmp/ipykernel_4393/1460650763.py:24: FutureWarning: The behavior of DataFrame concatenation with empty or all-NA entries is deprecated. In a future version, this will no longer exclude empty or all-NA columns when determining the result dtypes. To retain the old behavior, exclude the relevant entries before the concat operation.\n",
      "  window_df = pd.concat([window_df, new_row_df], ignore_index=True)\n"
     ]
    },
    {
     "name": "stdout",
     "output_type": "stream",
     "text": [
      "Accuracy Score for the  200 -th sliding window size\n",
      "0.9875704342061651\n"
     ]
    },
    {
     "name": "stderr",
     "output_type": "stream",
     "text": [
      "/tmp/ipykernel_4393/1460650763.py:24: FutureWarning: The behavior of DataFrame concatenation with empty or all-NA entries is deprecated. In a future version, this will no longer exclude empty or all-NA columns when determining the result dtypes. To retain the old behavior, exclude the relevant entries before the concat operation.\n",
      "  window_df = pd.concat([window_df, new_row_df], ignore_index=True)\n"
     ]
    },
    {
     "name": "stdout",
     "output_type": "stream",
     "text": [
      "Accuracy Score for the  300 -th sliding window size\n",
      "0.9953449709060682\n"
     ]
    },
    {
     "name": "stderr",
     "output_type": "stream",
     "text": [
      "/tmp/ipykernel_4393/1460650763.py:24: FutureWarning: The behavior of DataFrame concatenation with empty or all-NA entries is deprecated. In a future version, this will no longer exclude empty or all-NA columns when determining the result dtypes. To retain the old behavior, exclude the relevant entries before the concat operation.\n",
      "  window_df = pd.concat([window_df, new_row_df], ignore_index=True)\n"
     ]
    },
    {
     "name": "stdout",
     "output_type": "stream",
     "text": [
      "Accuracy Score for the  400 -th sliding window size\n",
      "0.9989994997498749\n"
     ]
    },
    {
     "name": "stderr",
     "output_type": "stream",
     "text": [
      "/tmp/ipykernel_4393/1460650763.py:24: FutureWarning: The behavior of DataFrame concatenation with empty or all-NA entries is deprecated. In a future version, this will no longer exclude empty or all-NA columns when determining the result dtypes. To retain the old behavior, exclude the relevant entries before the concat operation.\n",
      "  window_df = pd.concat([window_df, new_row_df], ignore_index=True)\n"
     ]
    },
    {
     "name": "stdout",
     "output_type": "stream",
     "text": [
      "Accuracy Score for the  500 -th sliding window size\n",
      "0.999330935853475\n"
     ]
    },
    {
     "name": "stderr",
     "output_type": "stream",
     "text": [
      "/tmp/ipykernel_4393/1460650763.py:24: FutureWarning: The behavior of DataFrame concatenation with empty or all-NA entries is deprecated. In a future version, this will no longer exclude empty or all-NA columns when determining the result dtypes. To retain the old behavior, exclude the relevant entries before the concat operation.\n",
      "  window_df = pd.concat([window_df, new_row_df], ignore_index=True)\n"
     ]
    },
    {
     "name": "stdout",
     "output_type": "stream",
     "text": [
      "Accuracy Score for the  600 -th sliding window size\n",
      "0.9996643732169828\n"
     ]
    },
    {
     "name": "stderr",
     "output_type": "stream",
     "text": [
      "/tmp/ipykernel_4393/1460650763.py:24: FutureWarning: The behavior of DataFrame concatenation with empty or all-NA entries is deprecated. In a future version, this will no longer exclude empty or all-NA columns when determining the result dtypes. To retain the old behavior, exclude the relevant entries before the concat operation.\n",
      "  window_df = pd.concat([window_df, new_row_df], ignore_index=True)\n"
     ]
    },
    {
     "name": "stdout",
     "output_type": "stream",
     "text": [
      "Accuracy Score for the  700 -th sliding window size\n",
      "0.9997474747474747\n"
     ]
    },
    {
     "name": "stderr",
     "output_type": "stream",
     "text": [
      "/tmp/ipykernel_4393/1460650763.py:24: FutureWarning: The behavior of DataFrame concatenation with empty or all-NA entries is deprecated. In a future version, this will no longer exclude empty or all-NA columns when determining the result dtypes. To retain the old behavior, exclude the relevant entries before the concat operation.\n",
      "  window_df = pd.concat([window_df, new_row_df], ignore_index=True)\n"
     ]
    },
    {
     "name": "stdout",
     "output_type": "stream",
     "text": [
      "Accuracy Score for the  800 -th sliding window size\n",
      "1.0\n"
     ]
    },
    {
     "name": "stderr",
     "output_type": "stream",
     "text": [
      "/tmp/ipykernel_4393/1460650763.py:24: FutureWarning: The behavior of DataFrame concatenation with empty or all-NA entries is deprecated. In a future version, this will no longer exclude empty or all-NA columns when determining the result dtypes. To retain the old behavior, exclude the relevant entries before the concat operation.\n",
      "  window_df = pd.concat([window_df, new_row_df], ignore_index=True)\n"
     ]
    },
    {
     "name": "stdout",
     "output_type": "stream",
     "text": [
      "Accuracy Score for the  900 -th sliding window size\n",
      "1.0\n"
     ]
    },
    {
     "name": "stderr",
     "output_type": "stream",
     "text": [
      "/tmp/ipykernel_4393/1460650763.py:24: FutureWarning: The behavior of DataFrame concatenation with empty or all-NA entries is deprecated. In a future version, this will no longer exclude empty or all-NA columns when determining the result dtypes. To retain the old behavior, exclude the relevant entries before the concat operation.\n",
      "  window_df = pd.concat([window_df, new_row_df], ignore_index=True)\n"
     ]
    },
    {
     "name": "stdout",
     "output_type": "stream",
     "text": [
      "Accuracy Score for the  1000 -th sliding window size\n",
      "1.0\n"
     ]
    }
   ],
   "source": [
    "for i in range(100, 1024, 100):\n",
    "    window_df = sliding_window(frame_list, i, 16, \"test.csv\")\n",
    "\n",
    "    X = window_df.iloc[:, :-1]\n",
    "    y = window_df['target']\n",
    "    knn = KNeighborsClassifier(n_neighbors=5)\n",
    "    knn.fit(X, y)\n",
    "    print(\"Accuracy Score for the \",i ,\"-th sliding window size\")\n",
    "    print(knn.score(X, y))\n",
    "\n"
   ]
  },
  {
   "cell_type": "code",
   "execution_count": 6,
   "metadata": {},
   "outputs": [
    {
     "name": "stdout",
     "output_type": "stream",
     "text": [
      "[144, 564, 3273, 3064, 1642, 3081]\n"
     ]
    }
   ],
   "source": [
    "print([len(window_df[window_df['target'] == i]) for i in range(1, 7)])"
   ]
  },
  {
   "cell_type": "code",
   "execution_count": 79,
   "metadata": {},
   "outputs": [
    {
     "name": "stderr",
     "output_type": "stream",
     "text": [
      "/tmp/ipykernel_4393/1460650763.py:24: FutureWarning: The behavior of DataFrame concatenation with empty or all-NA entries is deprecated. In a future version, this will no longer exclude empty or all-NA columns when determining the result dtypes. To retain the old behavior, exclude the relevant entries before the concat operation.\n",
      "  window_df = pd.concat([window_df, new_row_df], ignore_index=True)\n"
     ]
    },
    {
     "name": "stdout",
     "output_type": "stream",
     "text": [
      "       time_past     mean_X    mean_Y    mean_Z  mean_distance  target\n",
      "0       9755.859  -9.876531  1.200831  1.281559      10.049950     1.0\n",
      "1       9755.859  -9.878446  1.204339  1.266928      10.050193     1.0\n",
      "2       9755.859  -9.879334  1.203782  1.255102      10.049192     1.0\n",
      "3       9755.859  -9.881770  1.202205  1.242242      10.049470     1.0\n",
      "4       9755.859  -9.887150  1.194420  1.235012      10.052878     1.0\n",
      "...          ...        ...       ...       ...            ...     ...\n",
      "11763   9755.859  -9.994639 -0.352714  0.732295      10.272227     6.0\n",
      "11764   9755.859 -10.000585 -0.324991  0.818448      10.285292     6.0\n",
      "11765   9755.859 -10.003738 -0.327612  0.845414      10.289285     6.0\n",
      "11766   9755.859  -9.994361 -0.341444  0.817793      10.277999     6.0\n",
      "11767   9755.859  -9.984196 -0.380082  0.741906      10.266520     6.0\n",
      "\n",
      "[11768 rows x 6 columns]\n",
      "1.0\n"
     ]
    }
   ],
   "source": [
    "window_df = sliding_window(frame_list, 1000, 16, \"test.csv\")\n",
    "print(window_df)\n",
    "X = window_df.iloc[:, :-1]\n",
    "y = window_df['target']\n",
    "knn = KNeighborsClassifier(n_neighbors=5)\n",
    "knn.fit(X, y)\n",
    "print(knn.score(X, y))"
   ]
  },
  {
   "cell_type": "code",
   "execution_count": 49,
   "metadata": {},
   "outputs": [],
   "source": [
    "\n",
    "from sklearn.model_selection import train_test_split\n",
    "X_train, X_test , y_train, y_test = train_test_split(X, y, test_size = 0.2, random_state = 0)\n"
   ]
  },
  {
   "cell_type": "code",
   "execution_count": 10,
   "metadata": {},
   "outputs": [
    {
     "data": {
      "text/plain": [
       "array([[ 9.97131841e-01, -1.26130003e-03,  1.55212270e-04,\n",
       "         1.67814823e-04,  1.28383231e-03],\n",
       "       [ 9.97130006e-01, -1.26220675e-03,  1.55845547e-04,\n",
       "         1.67225058e-04,  1.28471668e-03],\n",
       "       [ 9.97135345e-01, -1.26149444e-03,  1.55408421e-04,\n",
       "         1.64177411e-04,  1.28357427e-03],\n",
       "       ...,\n",
       "       [ 9.97226528e-01, -1.27876510e-03, -6.04783813e-05,\n",
       "         1.16882855e-04,  1.31734569e-03],\n",
       "       [ 9.97232253e-01, -1.27845987e-03, -5.93276174e-05,\n",
       "         1.13731471e-04,  1.31622809e-03],\n",
       "       [ 9.97244411e-01, -1.27742109e-03, -6.48491944e-05,\n",
       "         9.87360740e-05,  1.31458278e-03]])"
      ]
     },
     "execution_count": 10,
     "metadata": {},
     "output_type": "execute_result"
    }
   ],
   "source": []
  },
  {
   "cell_type": "code",
   "execution_count": 50,
   "metadata": {},
   "outputs": [
    {
     "name": "stdout",
     "output_type": "stream",
     "text": [
      "1.0\n",
      "[[ 24   0   0   0   0   0]\n",
      " [  0 117   0   0   0   0]\n",
      " [  0   0 639   0   0   0]\n",
      " [  0   0   0 614   0   0]\n",
      " [  0   0   0   0 342   0]\n",
      " [  0   0   0   0   0 618]]\n"
     ]
    }
   ],
   "source": [
    "knn = KNeighborsClassifier(n_neighbors=5)\n",
    "knn.fit(X_train, y_train)\n",
    "print(knn.score(X_test, y_test))\n",
    "y_pred = knn.predict(X_test)\n",
    " \n",
    "cm = confusion_matrix(y_test,y_pred)\n",
    "print(cm)\n",
    " "
   ]
  },
  {
   "cell_type": "code",
   "execution_count": 75,
   "metadata": {},
   "outputs": [
    {
     "name": "stdout",
     "output_type": "stream",
     "text": [
      "Avg accuracy: 0.9624466099098944\n"
     ]
    }
   ],
   "source": [
    "from sklearn.model_selection import cross_val_score, cross_val_predict\n",
    "\n",
    "\n",
    "k = 10\n",
    "kf = KFold(n_splits=k, random_state=None)\n",
    " \n",
    "result = cross_val_score(knn, X, y, cv = k)\n",
    "\n",
    " \n",
    "print(\"Avg accuracy: {}\".format(result.mean()))"
   ]
  },
  {
   "cell_type": "code",
   "execution_count": 76,
   "metadata": {},
   "outputs": [
    {
     "data": {
      "text/plain": [
       "array([[ 1.00000000e+00, -1.01236914e-03,  1.23088205e-04,\n",
       "         1.31362995e-04,  1.03014503e-03],\n",
       "       [ 1.00000000e+00, -1.01256549e-03,  1.23447720e-04,\n",
       "         1.29863252e-04,  1.03016999e-03],\n",
       "       [ 1.00000000e+00, -1.01265646e-03,  1.23390676e-04,\n",
       "         1.28651066e-04,  1.03006734e-03],\n",
       "       ...,\n",
       "       [ 1.00000000e+00, -1.02540824e-03, -3.35810223e-05,\n",
       "         8.66570589e-05,  1.05467753e-03],\n",
       "       [ 1.00000000e+00, -1.02444700e-03, -3.49988798e-05,\n",
       "         8.38258509e-05,  1.05352063e-03],\n",
       "       [ 1.00000000e+00, -1.02340515e-03, -3.89593451e-05,\n",
       "         7.60472352e-05,  1.05234402e-03]])"
      ]
     },
     "execution_count": 76,
     "metadata": {},
     "output_type": "execute_result"
    }
   ],
   "source": [
    "from sklearn.preprocessing import normalize\n",
    "normalize(X, norm=\"max\", axis=1)"
   ]
  },
  {
   "cell_type": "code",
   "execution_count": 77,
   "metadata": {},
   "outputs": [
    {
     "name": "stdout",
     "output_type": "stream",
     "text": [
      "1.0\n",
      "[[ 24   0   0   0   0   0]\n",
      " [  0 117   0   0   0   0]\n",
      " [  0   0 639   0   0   0]\n",
      " [  0   0   0 614   0   0]\n",
      " [  0   0   0   0 342   0]\n",
      " [  0   0   0   0   0 618]]\n"
     ]
    }
   ],
   "source": [
    "knn = KNeighborsClassifier(n_neighbors=5)\n",
    "knn.fit(X_train, y_train)\n",
    "print(knn.score(X_test, y_test))\n",
    "y_pred = knn.predict(X_test)\n",
    " \n",
    "cm = confusion_matrix(y_test,y_pred)\n",
    "print(cm)"
   ]
  },
  {
   "cell_type": "code",
   "execution_count": 78,
   "metadata": {},
   "outputs": [
    {
     "name": "stdout",
     "output_type": "stream",
     "text": [
      "Avg accuracy: 0.9624466099098944\n"
     ]
    }
   ],
   "source": [
    "from sklearn.model_selection import cross_val_score\n",
    "\n",
    "\n",
    "k = 10\n",
    "kf = KFold(n_splits=k, random_state=None)\n",
    "# DT = DecisionTreeClassifier(criterion='entropy')\n",
    " \n",
    "result = cross_val_score(knn, X, y, cv = k)\n",
    " \n",
    "print(\"Avg accuracy: {}\".format(result.mean()))"
   ]
  },
  {
   "cell_type": "code",
   "execution_count": 58,
   "metadata": {},
   "outputs": [],
   "source": [
    "from sklearn.model_selection import train_test_split\n",
    "from sklearn.metrics import classification_report, confusion_matrix\n",
    "X_train, X_test , y_train, y_test = train_test_split(X, y, test_size = 0.2, random_state = 0)"
   ]
  },
  {
   "cell_type": "code",
   "execution_count": 59,
   "metadata": {},
   "outputs": [
    {
     "name": "stdout",
     "output_type": "stream",
     "text": [
      "1.0\n",
      "[[ 144    0    0    0    0    0]\n",
      " [   0  564    0    0    0    0]\n",
      " [   0    0 3273    0    0    0]\n",
      " [   0    0    0 3064    0    0]\n",
      " [   0    0    0    0 1642    0]\n",
      " [   0    0    0    0    0 3081]]\n",
      "              precision    recall  f1-score   support\n",
      "\n",
      "         1.0       1.00      1.00      1.00       144\n",
      "         2.0       1.00      1.00      1.00       564\n",
      "         3.0       1.00      1.00      1.00      3273\n",
      "         4.0       1.00      1.00      1.00      3064\n",
      "         5.0       1.00      1.00      1.00      1642\n",
      "         6.0       1.00      1.00      1.00      3081\n",
      "\n",
      "    accuracy                           1.00     11768\n",
      "   macro avg       1.00      1.00      1.00     11768\n",
      "weighted avg       1.00      1.00      1.00     11768\n",
      "\n"
     ]
    }
   ],
   "source": [
    "import seaborn as sns\n",
    "knn = KNeighborsClassifier(n_neighbors=5)\n",
    "knn.fit(X, y)\n",
    "print(knn.score(X, y))\n",
    "y_pred = knn.predict(X)\n",
    " \n",
    "cm = confusion_matrix(y ,y_pred)\n",
    "print(cm)\n",
    "\n",
    "print(classification_report(y, y_pred))\n"
   ]
  },
  {
   "cell_type": "code",
   "execution_count": 61,
   "metadata": {},
   "outputs": [
    {
     "name": "stdout",
     "output_type": "stream",
     "text": [
      "Avg accuracy: 0.9997889181470244\n"
     ]
    }
   ],
   "source": []
  },
  {
   "cell_type": "code",
   "execution_count": 60,
   "metadata": {},
   "outputs": [
    {
     "name": "stdout",
     "output_type": "stream",
     "text": [
      "1.0\n",
      "[[ 24   0   0   0   0   0]\n",
      " [  0 117   0   0   0   0]\n",
      " [  0   0 639   0   0   0]\n",
      " [  0   0   0 614   0   0]\n",
      " [  0   0   0   0 342   0]\n",
      " [  0   0   0   0   0 618]]\n",
      "              precision    recall  f1-score   support\n",
      "\n",
      "         1.0       1.00      1.00      1.00        24\n",
      "         2.0       1.00      1.00      1.00       117\n",
      "         3.0       1.00      1.00      1.00       639\n",
      "         4.0       1.00      1.00      1.00       614\n",
      "         5.0       1.00      1.00      1.00       342\n",
      "         6.0       1.00      1.00      1.00       618\n",
      "\n",
      "    accuracy                           1.00      2354\n",
      "   macro avg       1.00      1.00      1.00      2354\n",
      "weighted avg       1.00      1.00      1.00      2354\n",
      "\n"
     ]
    },
    {
     "data": {
      "image/png": "[encoded data removed]",
      "text/plain": [
       "<Figure size 640x480 with 1 Axes>"
      ]
     },
     "metadata": {},
     "output_type": "display_data"
    }
   ],
   "source": [
    "knn = KNeighborsClassifier(n_neighbors=5)\n",
    "knn.fit(X_train, y_train)\n",
    "print(knn.score(X_test, y_test))\n",
    "y_pred = knn.predict(X_test)\n",
    " \n",
    "cm = confusion_matrix(y_test ,y_pred)\n",
    "print(cm)\n",
    "print(classification_report(y_test, y_pred))\n",
    "sns.heatmap(cm, square=True, annot=True, fmt='d', cbar=False)\n",
    "plt.xlabel('true label')\n",
    "plt.ylabel('predicted label')\n",
    "plt.show()\n",
    "\n"
   ]
  },
  {
   "cell_type": "code",
   "execution_count": 72,
   "metadata": {},
   "outputs": [
    {
     "name": "stdout",
     "output_type": "stream",
     "text": [
      "Avg accuracy: 0.9624466099098944\n",
      "              precision    recall  f1-score   support\n",
      "\n",
      "         1.0       0.35      1.00      0.52       144\n",
      "         2.0       0.87      0.78      0.82       564\n",
      "         3.0       0.95      1.00      0.97      3273\n",
      "         4.0       0.91      0.84      0.87      3064\n",
      "         5.0       1.00      1.00      1.00      1642\n",
      "         6.0       0.97      0.94      0.95      3081\n",
      "\n",
      "    accuracy                           0.93     11768\n",
      "   macro avg       0.84      0.92      0.86     11768\n",
      "weighted avg       0.94      0.93      0.93     11768\n",
      "\n",
      "[[ 144    0    0    0    0    0]\n",
      " [   0  439    0  125    0    0]\n",
      " [   0    0 3257    0    0   16]\n",
      " [ 269   63  104 2566    0   62]\n",
      " [   0    0    0    0 1642    0]\n",
      " [   2    0   68  125    0 2886]]\n"
     ]
    },
    {
     "data": {
      "image/png": "[encoded data removed]",
      "text/plain": [
       "<Figure size 640x480 with 1 Axes>"
      ]
     },
     "metadata": {},
     "output_type": "display_data"
    }
   ],
   "source": [
    "from sklearn.model_selection import cross_val_score\n",
    "\n",
    "\n",
    "k = 10\n",
    "kf = KFold(n_splits=k, random_state=None)\n",
    " \n",
    "result = cross_val_score(knn, X, y, cv = k)\n",
    "result_y_pred = cross_val_predict(knn, X, y)\n",
    "\n",
    "print(\"Avg accuracy: {}\".format(result.mean()))\n",
    "\n",
    "print(classification_report(y, result_y_pred))\n",
    "cm = confusion_matrix(y , result_y_pred)\n",
    "print(cm)\n",
    "sns.heatmap(cm, square=True, annot=True, fmt='d', cbar=False)\n",
    "plt.xlabel('true label')\n",
    "plt.ylabel('predicted label')\n",
    "plt.show()"
   ]
  },
  {
   "cell_type": "code",
   "execution_count": 62,
   "metadata": {},
   "outputs": [
    {
     "name": "stdout",
     "output_type": "stream",
     "text": [
      "1.0\n",
      "              precision    recall  f1-score   support\n",
      "\n",
      "         1.0       1.00      1.00      1.00       144\n",
      "         2.0       1.00      1.00      1.00       564\n",
      "         3.0       1.00      1.00      1.00      3273\n",
      "         4.0       1.00      1.00      1.00      3064\n",
      "         5.0       1.00      1.00      1.00      1642\n",
      "         6.0       1.00      1.00      1.00      3081\n",
      "\n",
      "    accuracy                           1.00     11768\n",
      "   macro avg       1.00      1.00      1.00     11768\n",
      "weighted avg       1.00      1.00      1.00     11768\n",
      "\n"
     ]
    }
   ],
   "source": [
    "import seaborn as sns\n",
    "\n",
    "DT = DecisionTreeClassifier()\n",
    "tree = DT.fit(X, y)\n",
    "y_pred = DT.predict(X)\n",
    "print(DT.score(X, y))\n",
    "\n",
    "print(classification_report(y, y_pred))"
   ]
  },
  {
   "cell_type": "code",
   "execution_count": null,
   "metadata": {},
   "outputs": [],
   "source": []
  },
  {
   "cell_type": "code",
   "execution_count": 63,
   "metadata": {},
   "outputs": [
    {
     "data": {
      "text/plain": [
       "0.9987255734919286"
      ]
     },
     "execution_count": 63,
     "metadata": {},
     "output_type": "execute_result"
    }
   ],
   "source": [
    "\n",
    "from sklearn.metrics import classification_report, confusion_matrix\n",
    "DT = DecisionTreeClassifier()\n",
    "tree = DT.fit(X_train, y_train)\n",
    "y_pred = DT.predict(X_train)\n",
    "DT.score(X_test, y_test)"
   ]
  },
  {
   "cell_type": "code",
   "execution_count": 74,
   "metadata": {},
   "outputs": [
    {
     "name": "stdout",
     "output_type": "stream",
     "text": [
      "Avg accuracy: 0.9524092007236199\n",
      "              precision    recall  f1-score   support\n",
      "\n",
      "         1.0       0.35      1.00      0.52       144\n",
      "         2.0       0.87      0.78      0.82       564\n",
      "         3.0       0.95      1.00      0.97      3273\n",
      "         4.0       0.91      0.84      0.87      3064\n",
      "         5.0       1.00      1.00      1.00      1642\n",
      "         6.0       0.97      0.94      0.95      3081\n",
      "\n",
      "    accuracy                           0.93     11768\n",
      "   macro avg       0.84      0.92      0.86     11768\n",
      "weighted avg       0.94      0.93      0.93     11768\n",
      "\n",
      "[[ 144    0    0    0    0    0]\n",
      " [   0  439    0  125    0    0]\n",
      " [   0    0 3257    0    0   16]\n",
      " [ 269   63  104 2566    0   62]\n",
      " [   0    0    0    0 1642    0]\n",
      " [   2    0   68  125    0 2886]]\n"
     ]
    },
    {
     "data": {
      "image/png": "[encoded data removed]",
      "text/plain": [
       "<Figure size 640x480 with 1 Axes>"
      ]
     },
     "metadata": {},
     "output_type": "display_data"
    }
   ],
   "source": [
    "from sklearn.model_selection import cross_val_score\n",
    "\n",
    "\n",
    "k = 10\n",
    "kf = KFold(n_splits=k, random_state=None)\n",
    "# DT = DecisionTreeClassifier(criterion='entropy')\n",
    " \n",
    "result = cross_val_score(DT, X, y, cv = k)\n",
    "result_y_pred = cross_val_predict(knn, X, y)\n",
    "\n",
    "print(\"Avg accuracy: {}\".format(result.mean()))\n",
    "\n",
    "print(classification_report(y, result_y_pred))\n",
    "cm = confusion_matrix(y , result_y_pred)\n",
    "print(cm)\n",
    "sns.heatmap(cm, square=True, annot=True, fmt='d', cbar=False)\n",
    "plt.xlabel('true label')\n",
    "plt.ylabel('predicted label')\n",
    "plt.show()"
   ]
  },
  {
   "cell_type": "code",
   "execution_count": 68,
   "metadata": {},
   "outputs": [
    {
     "name": "stdout",
     "output_type": "stream",
     "text": [
      "1.0\n",
      "[[ 24   0   0   0   0   0]\n",
      " [  0 117   0   0   0   0]\n",
      " [  0   0 639   0   0   0]\n",
      " [  0   0   0 614   0   0]\n",
      " [  0   0   0   0 342   0]\n",
      " [  0   0   0   0   0 618]]\n"
     ]
    },
    {
     "data": {
      "image/png": "[encoded data removed]",
      "text/plain": [
       "<Figure size 640x480 with 1 Axes>"
      ]
     },
     "metadata": {},
     "output_type": "display_data"
    }
   ],
   "source": [
    "knn = KNeighborsClassifier(n_neighbors=5)\n",
    "knn.fit(X_train, y_train)\n",
    "print(knn.score(X_test, y_test))\n",
    "y_pred = knn.predict(X_test)\n",
    " \n",
    "cm = confusion_matrix(y_test,y_pred)\n",
    "print(cm)\n",
    "sns.heatmap(cm, square=True, annot=True, fmt='d', cbar=False)\n",
    "plt.xlabel('true label')\n",
    "plt.ylabel('predicted label')\n",
    "plt.show()"
   ]
  },
  {
   "cell_type": "code",
   "execution_count": null,
   "metadata": {},
   "outputs": [],
   "source": []
  }
 ],
 "metadata": {
  "kernelspec": {
   "display_name": "Python 3",
   "language": "python",
   "name": "python3"
  },
  "language_info": {
   "codemirror_mode": {
    "name": "ipython",
    "version": 3
   },
   "file_extension": ".py",
   "mimetype": "text/x-python",
   "name": "python",
   "nbconvert_exporter": "python",
   "pygments_lexer": "ipython3",
   "version": "3.10.12"
  }
 },
 "nbformat": 4,
 "nbformat_minor": 2
}
